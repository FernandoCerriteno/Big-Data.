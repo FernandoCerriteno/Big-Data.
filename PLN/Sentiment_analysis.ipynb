{
 "cells": [
  {
   "cell_type": "markdown",
   "metadata": {},
   "source": [
    "Fernando Cerriteño Magaña - A01702790"
   ]
  },
  {
   "cell_type": "markdown",
   "metadata": {},
   "source": [
    "Importación de librerias"
   ]
  },
  {
   "cell_type": "code",
   "execution_count": 1,
   "metadata": {},
   "outputs": [],
   "source": [
    "from transformers import pipeline\n",
    "import pandas as pd"
   ]
  },
  {
   "cell_type": "markdown",
   "metadata": {},
   "source": [
    "Uso de pipelines para analizar Tweets"
   ]
  },
  {
   "cell_type": "markdown",
   "metadata": {},
   "source": [
    "Se lee la base de datos, en este caso el corpus es un conjunto de diversos tweets"
   ]
  },
  {
   "cell_type": "code",
   "execution_count": 2,
   "metadata": {},
   "outputs": [],
   "source": [
    "df = pd.read_csv(\"Datasets/twitter_Data.csv\", engine='python')"
   ]
  },
  {
   "cell_type": "markdown",
   "metadata": {},
   "source": [
    "Se lee el modelo especifico para analizar tweets"
   ]
  },
  {
   "cell_type": "code",
   "execution_count": 3,
   "metadata": {},
   "outputs": [
    {
     "name": "stderr",
     "output_type": "stream",
     "text": [
      "emoji is not installed, thus not converting emoticons or emojis into text. Install emoji: pip3 install emoji==0.6.0\n"
     ]
    }
   ],
   "source": [
    "specific_model = pipeline(model=\"finiteautomata/bertweet-base-sentiment-analysis\")"
   ]
  },
  {
   "cell_type": "markdown",
   "metadata": {},
   "source": [
    "Se determina los datos a usar y se evaluan con el pipeline"
   ]
  },
  {
   "cell_type": "code",
   "execution_count": 4,
   "metadata": {},
   "outputs": [
    {
     "name": "stdout",
     "output_type": "stream",
     "text": [
      "[{'label': 'NEU', 'score': 0.7807137966156006}, {'label': 'NEU', 'score': 0.608772873878479}, {'label': 'NEU', 'score': 0.5977587699890137}, {'label': 'NEG', 'score': 0.8581652045249939}, {'label': 'NEU', 'score': 0.9145069122314453}, {'label': 'NEU', 'score': 0.9748417735099792}, {'label': 'NEU', 'score': 0.6558222770690918}, {'label': 'NEU', 'score': 0.9675464034080505}, {'label': 'NEU', 'score': 0.5328531265258789}, {'label': 'NEU', 'score': 0.9130786657333374}, {'label': 'NEU', 'score': 0.7291692495346069}, {'label': 'POS', 'score': 0.5160770416259766}, {'label': 'NEU', 'score': 0.6967853307723999}, {'label': 'POS', 'score': 0.5269819498062134}, {'label': 'POS', 'score': 0.5805943608283997}, {'label': 'NEU', 'score': 0.5060056447982788}, {'label': 'NEG', 'score': 0.928406834602356}, {'label': 'NEU', 'score': 0.8977788090705872}, {'label': 'NEU', 'score': 0.6850192546844482}, {'label': 'NEG', 'score': 0.6761373281478882}, {'label': 'NEU', 'score': 0.5930612087249756}, {'label': 'NEU', 'score': 0.8284773826599121}, {'label': 'NEG', 'score': 0.9763244390487671}, {'label': 'NEU', 'score': 0.8546792268753052}, {'label': 'NEG', 'score': 0.8777204751968384}, {'label': 'POS', 'score': 0.9756075143814087}, {'label': 'NEG', 'score': 0.9180777668952942}, {'label': 'NEU', 'score': 0.8464365601539612}, {'label': 'NEU', 'score': 0.970154881477356}, {'label': 'NEU', 'score': 0.719702422618866}, {'label': 'POS', 'score': 0.6128889322280884}, {'label': 'NEU', 'score': 0.9416529536247253}, {'label': 'NEG', 'score': 0.9379962086677551}, {'label': 'NEG', 'score': 0.953683078289032}, {'label': 'NEG', 'score': 0.9699937701225281}, {'label': 'NEU', 'score': 0.8626802563667297}, {'label': 'NEU', 'score': 0.9533327221870422}, {'label': 'POS', 'score': 0.898821234703064}, {'label': 'NEG', 'score': 0.5724727511405945}, {'label': 'NEG', 'score': 0.6358780860900879}, {'label': 'POS', 'score': 0.9812753796577454}, {'label': 'NEU', 'score': 0.8898846507072449}, {'label': 'NEU', 'score': 0.850024938583374}, {'label': 'NEG', 'score': 0.9778108596801758}, {'label': 'NEG', 'score': 0.8978898525238037}, {'label': 'POS', 'score': 0.6265297532081604}, {'label': 'POS', 'score': 0.9605603218078613}, {'label': 'NEU', 'score': 0.9673361778259277}, {'label': 'POS', 'score': 0.5572160482406616}, {'label': 'NEG', 'score': 0.9557430148124695}, {'label': 'NEG', 'score': 0.94627845287323}, {'label': 'NEG', 'score': 0.8451504111289978}, {'label': 'NEU', 'score': 0.9495615363121033}, {'label': 'NEG', 'score': 0.9671326875686646}, {'label': 'NEU', 'score': 0.581483781337738}, {'label': 'NEU', 'score': 0.4789246618747711}, {'label': 'NEG', 'score': 0.8165451288223267}, {'label': 'NEU', 'score': 0.7925940155982971}, {'label': 'POS', 'score': 0.9519394040107727}, {'label': 'POS', 'score': 0.967271625995636}, {'label': 'NEG', 'score': 0.9485753178596497}, {'label': 'NEG', 'score': 0.8365687131881714}, {'label': 'NEG', 'score': 0.8912478089332581}, {'label': 'POS', 'score': 0.9322730898857117}, {'label': 'POS', 'score': 0.9089672565460205}, {'label': 'NEG', 'score': 0.9706124067306519}, {'label': 'NEU', 'score': 0.9016508460044861}, {'label': 'NEU', 'score': 0.7739813923835754}, {'label': 'NEU', 'score': 0.9547420144081116}, {'label': 'POS', 'score': 0.8130685687065125}, {'label': 'NEG', 'score': 0.9677925705909729}, {'label': 'NEU', 'score': 0.8237085342407227}, {'label': 'NEG', 'score': 0.5115501284599304}, {'label': 'NEG', 'score': 0.9437604546546936}, {'label': 'NEG', 'score': 0.8765877485275269}, {'label': 'NEU', 'score': 0.8906360864639282}, {'label': 'NEG', 'score': 0.9767458438873291}, {'label': 'NEU', 'score': 0.9725416302680969}, {'label': 'POS', 'score': 0.5341100096702576}, {'label': 'NEG', 'score': 0.8285512328147888}, {'label': 'POS', 'score': 0.9158545136451721}, {'label': 'POS', 'score': 0.9739180207252502}, {'label': 'NEU', 'score': 0.7427201867103577}, {'label': 'NEU', 'score': 0.5705966353416443}, {'label': 'NEU', 'score': 0.9250614643096924}, {'label': 'NEG', 'score': 0.9324744343757629}, {'label': 'NEG', 'score': 0.9582566022872925}, {'label': 'NEG', 'score': 0.9587743282318115}, {'label': 'NEG', 'score': 0.8815053701400757}, {'label': 'NEU', 'score': 0.5553868412971497}, {'label': 'NEU', 'score': 0.8593012690544128}, {'label': 'NEU', 'score': 0.7939475178718567}, {'label': 'NEU', 'score': 0.5507651567459106}, {'label': 'NEU', 'score': 0.9687252044677734}, {'label': 'NEU', 'score': 0.8814592361450195}, {'label': 'POS', 'score': 0.9544613361358643}, {'label': 'NEU', 'score': 0.9266246557235718}, {'label': 'NEU', 'score': 0.9290830492973328}, {'label': 'NEG', 'score': 0.491581529378891}, {'label': 'NEG', 'score': 0.6950944066047668}]\n"
     ]
    }
   ],
   "source": [
    "data0 = [str(i) for i in df['clean_text'].head(100).values]\n",
    "test = specific_model(data0)\n",
    "print(test)"
   ]
  },
  {
   "cell_type": "markdown",
   "metadata": {},
   "source": [
    "Se realiza una comparación entre la predicción y el valor real"
   ]
  },
  {
   "cell_type": "code",
   "execution_count": 5,
   "metadata": {},
   "outputs": [],
   "source": [
    "arr = []\n",
    "acc = []\n",
    "for i in range(len(test)):\n",
    "    if str(test[i])[11:14] == 'NEU':\n",
    "        arr.append([0,df.category[i]])\n",
    "    elif str(test[i])[11:14] == 'POS':\n",
    "        arr.append([1,df.category[i]])\n",
    "    else:\n",
    "        arr.append([-1,df.category[i]])"
   ]
  },
  {
   "cell_type": "markdown",
   "metadata": {},
   "source": [
    "Arreglo conteniendo las calificaciones de las predicciones"
   ]
  },
  {
   "cell_type": "code",
   "execution_count": 6,
   "metadata": {},
   "outputs": [],
   "source": [
    "vals = []\n",
    "for i in range(len(test)):\n",
    "    vals.append([test[i][\"score\"],test[i][\"label\"],df.category[i]])"
   ]
  },
  {
   "cell_type": "markdown",
   "metadata": {},
   "source": [
    "Se obtienen los datos que tuvieron mejor precisión acorde con el modelo, y los que tuvieron menor precisión y se evaluan con el valor real"
   ]
  },
  {
   "cell_type": "code",
   "execution_count": 7,
   "metadata": {},
   "outputs": [],
   "source": [
    "vals.sort()\n",
    "max=[]\n",
    "min=[]\n",
    "for i in range(1,6):\n",
    "    max.append(vals[-1*i])\n",
    "    min.append(vals[i])"
   ]
  },
  {
   "cell_type": "code",
   "execution_count": 8,
   "metadata": {},
   "outputs": [
    {
     "name": "stdout",
     "output_type": "stream",
     "text": [
      "Valores con mejor precision acorde al modelo\n",
      "[0.9812753796577454, 'POS', 1.0]\n",
      "[0.9778108596801758, 'NEG', 1.0]\n",
      "[0.9767458438873291, 'NEG', 1.0]\n",
      "[0.9763244390487671, 'NEG', 0.0]\n",
      "[0.9756075143814087, 'POS', 1.0]\n",
      "\n",
      "Valores con peor precision acorde al modelo\n",
      "[0.491581529378891, 'NEG', -1.0]\n",
      "[0.5060056447982788, 'NEU', -1.0]\n",
      "[0.5115501284599304, 'NEG', 1.0]\n",
      "[0.5160770416259766, 'POS', 1.0]\n",
      "[0.5269819498062134, 'POS', 0.0]\n"
     ]
    }
   ],
   "source": [
    "print(\"Valores con mejor precision acorde al modelo\",*max,sep=\"\\n\")\n",
    "print(\"\\nValores con peor precision acorde al modelo\",*min,sep=\"\\n\")"
   ]
  },
  {
   "cell_type": "markdown",
   "metadata": {},
   "source": [
    "Finalmente se checa el error del modelo"
   ]
  },
  {
   "cell_type": "code",
   "execution_count": 9,
   "metadata": {},
   "outputs": [],
   "source": [
    "count = 0\n",
    "for i in arr:\n",
    "    if i[0]==i[1]:\n",
    "        count += 1"
   ]
  },
  {
   "cell_type": "code",
   "execution_count": 10,
   "metadata": {},
   "outputs": [
    {
     "name": "stdout",
     "output_type": "stream",
     "text": [
      "Promedio de aciertos: 0.47\n"
     ]
    }
   ],
   "source": [
    "print(\"Promedio de aciertos:\",count/len(arr))"
   ]
  }
 ],
 "metadata": {
  "kernelspec": {
   "display_name": "Python 3",
   "language": "python",
   "name": "python3"
  },
  "language_info": {
   "codemirror_mode": {
    "name": "ipython",
    "version": 3
   },
   "file_extension": ".py",
   "mimetype": "text/x-python",
   "name": "python",
   "nbconvert_exporter": "python",
   "pygments_lexer": "ipython3",
   "version": "3.9.0"
  }
 },
 "nbformat": 4,
 "nbformat_minor": 2
}
