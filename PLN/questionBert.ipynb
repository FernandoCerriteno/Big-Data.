{
  "cells": [
    {
      "cell_type": "code",
      "execution_count": 9,
      "metadata": {
        "id": "S5_c_FO1cPWr"
      },
      "outputs": [],
      "source": [
        "from transformers import BertForQuestionAnswering, BertTokenizer\n",
        "import torch\n",
        "from PyPDF2 import PdfReader"
      ]
    },
    {
      "cell_type": "code",
      "execution_count": 10,
      "metadata": {
        "id": "30wBDJfhcRc9"
      },
      "outputs": [
        {
          "name": "stderr",
          "output_type": "stream",
          "text": [
            "Some weights of the model checkpoint at bert-large-uncased-whole-word-masking-finetuned-squad were not used when initializing BertForQuestionAnswering: ['bert.pooler.dense.weight', 'bert.pooler.dense.bias']\n",
            "- This IS expected if you are initializing BertForQuestionAnswering from the checkpoint of a model trained on another task or with another architecture (e.g. initializing a BertForSequenceClassification model from a BertForPreTraining model).\n",
            "- This IS NOT expected if you are initializing BertForQuestionAnswering from the checkpoint of a model that you expect to be exactly identical (initializing a BertForSequenceClassification model from a BertForSequenceClassification model).\n"
          ]
        }
      ],
      "source": [
        "# Cargar modelo y tokenizador\n",
        "model_name = 'bert-large-uncased-whole-word-masking-finetuned-squad'\n",
        "model = BertForQuestionAnswering.from_pretrained(model_name)\n",
        "tokenizer = BertTokenizer.from_pretrained(model_name)"
      ]
    },
    {
      "cell_type": "code",
      "execution_count": 11,
      "metadata": {
        "id": "CctOaWFs16my"
      },
      "outputs": [],
      "source": [
        "def extract_text_from_txt(txt_path, max_length=512):\n",
        "    with open(txt_path, 'r', encoding='utf-8') as file:\n",
        "        text = file.read()\n",
        "\n",
        "    # Dividir el texto en fragmentos\n",
        "    fragments = [text[i:i+max_length] for i in range(0, len(text), max_length)]\n",
        "    return fragments\n",
        "\n",
        "# Función para realizar predicciones de preguntas y respuestas\n",
        "def get_qa_predictions(context, questions):\n",
        "    predictions = []\n",
        "    for question in questions:\n",
        "        inputs = tokenizer(question, context, return_tensors='pt')\n",
        "        start_positions, end_positions = model(**inputs).values()\n",
        "        start_index = torch.argmax(start_positions)\n",
        "        end_index = torch.argmax(end_positions) + 1\n",
        "        answer = tokenizer.convert_tokens_to_string(tokenizer.convert_ids_to_tokens(inputs['input_ids'][0][start_index:end_index]))\n",
        "        predictions.append(answer)\n",
        "    return predictions"
      ]
    },
    {
      "cell_type": "code",
      "execution_count": 12,
      "metadata": {
        "id": "6kT6sjzFxanv"
      },
      "outputs": [
        {
          "name": "stdout",
          "output_type": "stream",
          "text": [
            "Pregunta 1: Who is hamlet?\n",
            "Respuesta 1: prince of denmark\n",
            "Pregunta 2: What is a castle?\n",
            "Respuesta 2: hamlet , prince of denmark\n",
            "Pregunta 3: Who is Fortinbras?\n",
            "Respuesta 3: francisco\n",
            "Pregunta 4: Was Hamlet really in love with Ophelia?\n",
            "Respuesta 4: hamlet , son to the former , and nephew to the present king .\n",
            "Pregunta 5: Where does the storie take place?\n",
            "Respuesta 5: the tragedy of hamlet , prince of denmark\n",
            "Pregunta 6: Who is Horatio?\n",
            "Respuesta 6: friend to hamlet\n",
            "Pregunta 7: Who is Claudius?\n",
            "Respuesta 7: king of denmark\n",
            "Pregunta 8: Who is Gertrude?\n",
            "Respuesta 8: hamlet\n",
            "Pregunta 9: What is the name of the castle?\n",
            "Respuesta 9: hamlet , prince of denmark\n",
            "Pregunta 10: What is python?\n",
            "Respuesta 10: the tragedy of hamlet , prince of denmark\n",
            "Pregunta 11: Quien es hamlet?\n",
            "Respuesta 11: hamlet , son to the former , and nephew to the present king\n",
            "Pregunta 12: ¿Que es un castillo?\n",
            "Respuesta 12: francisco\n",
            "Pregunta 13: ¿Quien es Fortinbras?\n",
            "Respuesta 13: francisco\n",
            "Pregunta 14: ¿Hamlet estaba realmente enamorado de Ophelia?\n",
            "Respuesta 14: hamlet\n",
            "Pregunta 15: ¿En donde se pasa la historia?\n",
            "Respuesta 15: the tragedy of hamlet , prince of denmark\n",
            "Pregunta 16: ¿Quien es Horatio?\n",
            "Respuesta 16: friend to hamlet\n",
            "Pregunta 17: ¿Quien es Claudius?\n",
            "Respuesta 17: claudius , king of denmark\n",
            "Pregunta 18: ¿Quien es Gertrude?\n",
            "Respuesta 18: \n",
            "Pregunta 19: ¿Cual es el nombre del castillo?\n",
            "Respuesta 19: francisco\n",
            "Pregunta 20: ¿Que es python?\n",
            "Respuesta 20: hamlet\n"
          ]
        }
      ],
      "source": [
        "# Ruta al archivo de texto (.txt)\n",
        "txt_path = 'hamlet.txt'  \n",
        "\n",
        "# Extraer texto del archivo de texto\n",
        "txt_text = extract_text_from_txt(txt_path)\n",
        "\n",
        "# Lista de preguntas\n",
        "preguntas = [\n",
        "    \"Who is hamlet?\",\n",
        "    \"What is a castle?\",\n",
        "    \"Who is Fortinbras?\",\n",
        "    \"Was Hamlet really in love with Ophelia?\",\n",
        "    \"Where does the storie take place?\",\n",
        "    \"Who is Horatio?\",\n",
        "    \"Who is Claudius?\",\n",
        "    \"Who is Gertrude?\",\n",
        "    \"What is the name of the castle?\",\n",
        "    \"What is python?\",\n",
        "    \"Quien es hamlet?\",\n",
        "    \"¿Que es un castillo?\",\n",
        "    \"¿Quien es Fortinbras?\",\n",
        "    \"¿Hamlet estaba realmente enamorado de Ophelia?\",\n",
        "    \"¿En donde se pasa la historia?\",\n",
        "    \"¿Quien es Horatio?\",\n",
        "    \"¿Quien es Claudius?\",\n",
        "    \"¿Quien es Gertrude?\",\n",
        "    \"¿Cual es el nombre del castillo?\",\n",
        "    \"¿Que es python?\"\n",
        "]\n",
        "\n",
        "# Obtener fragmentos de texto del archivo de texto\n",
        "txt_fragments = extract_text_from_txt(txt_path)\n",
        "\n",
        "# Inicializar lista para almacenar todas las respuestas\n",
        "respuestas = []\n",
        "\n",
        "# Iterar sobre los fragmentos y obtener predicciones\n",
        "for fragment in txt_fragments:\n",
        "    respuestas_fragmento = get_qa_predictions(fragment, preguntas)\n",
        "\n",
        "    respuestas.extend(respuestas_fragmento)\n",
        "\n",
        "# Imprimir preguntas y respuestas\n",
        "for i in range(len(preguntas)):\n",
        "    print(f\"Pregunta {i + 1}: {preguntas[i]}\")\n",
        "    print(f\"Respuesta {i + 1}: {respuestas[i]}\")\n"
      ]
    },
    {
      "cell_type": "markdown",
      "metadata": {},
      "source": [
        "#1¿Hubo alguna diferencia? \n",
        "Si, las respuestas en el idioma que no fue entrenado no llegan a ser coherentes.\n"
      ]
    },
    {
      "cell_type": "markdown",
      "metadata": {},
      "source": [
        "#2¿Que lenguaje conviene mas y por que? \n",
        "Conviene mas en el lenguaje del que es el texto de origen, ya que presenta mayor coherencia a la hora de contestar, siendo con el otro idioma tener respuestas en blanco.\n"
      ]
    },
    {
      "cell_type": "markdown",
      "metadata": {},
      "source": [
        "#3¿Cual era el tamaño del corpus?\n",
        "Fue un .txt de 188 KB."
      ]
    },
    {
      "cell_type": "markdown",
      "metadata": {},
      "source": [
        "#4¿Cuantas respuestas tienen coherencia? Cuatro respuestas en el idioma original y 1 en el otro idioma."
      ]
    },
    {
      "cell_type": "markdown",
      "metadata": {},
      "source": [
        "#5¿Si cambia el corpus y pregunta lo mismo recibirá una respuesta? No, ya que el texto a entrenar es distinto, y lo comprobe ya que lo hice con con otro corpus en español y fueron distinatas las respuestas. "
      ]
    },
    {
      "cell_type": "markdown",
      "metadata": {},
      "source": [
        "#6¿Cuántos lenguajes puede manejar el BERT para resolver preguntas? Con coherencia solo el idioma original, pero puede contestar en otro lenguaje pero es muy poco probable que de algo coherente."
      ]
    }
  ],
  "metadata": {
    "accelerator": "GPU",
    "colab": {
      "gpuType": "T4",
      "provenance": []
    },
    "kernelspec": {
      "display_name": "Python 3",
      "name": "python3"
    },
    "language_info": {
      "codemirror_mode": {
        "name": "ipython",
        "version": 3
      },
      "file_extension": ".py",
      "mimetype": "text/x-python",
      "name": "python",
      "nbconvert_exporter": "python",
      "pygments_lexer": "ipython3",
      "version": "3.10.7"
    }
  },
  "nbformat": 4,
  "nbformat_minor": 0
}
