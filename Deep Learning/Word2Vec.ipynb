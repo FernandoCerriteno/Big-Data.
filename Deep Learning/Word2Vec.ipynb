{
  "nbformat": 4,
  "nbformat_minor": 0,
  "metadata": {
    "colab": {
      "provenance": [],
      "gpuType": "T4"
    },
    "kernelspec": {
      "name": "python3",
      "display_name": "Python 3"
    },
    "language_info": {
      "name": "python"
    },
    "accelerator": "GPU"
  },
  "cells": [
    {
      "cell_type": "markdown",
      "source": [
        "Importar librerias  "
      ],
      "metadata": {
        "id": "YHbHpe5Xr_PG"
      }
    },
    {
      "cell_type": "code",
      "execution_count": null,
      "metadata": {
        "id": "AtVpHT9VlAv2"
      },
      "outputs": [],
      "source": [
        "import io\n",
        "import re\n",
        "import string\n",
        "import tqdm\n",
        "\n",
        "import numpy as np\n",
        "import tensorflow as tf\n",
        "from tensorflow.keras import layers\n",
        "\n",
        "SEED = 42\n",
        "AUTOTUNE = tf.data.AUTOTUNE"
      ]
    },
    {
      "cell_type": "markdown",
      "source": [
        "Tokenizacion"
      ],
      "metadata": {
        "id": "HNPpUlf0tSLT"
      }
    },
    {
      "cell_type": "code",
      "source": [
        "sentence = \"The wide road shimmered in the hot sun\"\n",
        "tokens = list(sentence.lower().split())\n",
        "print(len(tokens))"
      ],
      "metadata": {
        "colab": {
          "base_uri": "https://localhost:8080/"
        },
        "id": "tXsFlQawtaq1",
        "outputId": "57693d25-fc3e-49d2-a900-a7b0677c5056"
      },
      "execution_count": null,
      "outputs": [
        {
          "output_type": "stream",
          "name": "stdout",
          "text": [
            "8\n"
          ]
        }
      ]
    },
    {
      "cell_type": "code",
      "source": [
        "#Crear vocabulario\n",
        "vocab, index = {}, 1\n",
        "vocab['pad']= 0  #padding\n",
        "for token in tokens:\n",
        "  if token not in vocab:\n",
        "    vocab[token] = index\n",
        "    index +=1\n",
        "\n",
        "vocab_size=len(vocab)\n",
        "print(vocab)\n"
      ],
      "metadata": {
        "colab": {
          "base_uri": "https://localhost:8080/"
        },
        "id": "LYEIO_gGuDFP",
        "outputId": "eaafd739-172c-41ce-9345-72e7988919a5"
      },
      "execution_count": null,
      "outputs": [
        {
          "output_type": "stream",
          "name": "stdout",
          "text": [
            "{'pad': 0, 'the': 1, 'wide': 2, 'road': 3, 'shimmered': 4, 'in': 5, 'hot': 6, 'sun': 7}\n"
          ]
        }
      ]
    },
    {
      "cell_type": "code",
      "source": [
        "# inversa del vocabulario\n",
        "inverse_vocab = {index: token for token, index in vocab.items()}\n",
        "print(inverse_vocab)"
      ],
      "metadata": {
        "colab": {
          "base_uri": "https://localhost:8080/"
        },
        "id": "jDyPoQ_4vqJL",
        "outputId": "c82f5c31-d66a-433b-b35f-c4da2998508d"
      },
      "execution_count": null,
      "outputs": [
        {
          "output_type": "stream",
          "name": "stdout",
          "text": [
            "{0: 'pad', 1: 'the', 2: 'wide', 3: 'road', 4: 'shimmered', 5: 'in', 6: 'hot', 7: 'sun'}\n"
          ]
        }
      ]
    },
    {
      "cell_type": "code",
      "source": [
        "example_sequence = [vocab[word] for word in tokens]\n",
        "print(example_sequence)"
      ],
      "metadata": {
        "colab": {
          "base_uri": "https://localhost:8080/"
        },
        "id": "ausxfR6BwfOb",
        "outputId": "bc310348-13c5-447a-b6b9-83532eb390e7"
      },
      "execution_count": null,
      "outputs": [
        {
          "output_type": "stream",
          "name": "stdout",
          "text": [
            "[1, 2, 3, 4, 5, 1, 6, 7]\n"
          ]
        }
      ]
    },
    {
      "cell_type": "markdown",
      "source": [
        "Generar skip-grams"
      ],
      "metadata": {
        "id": "lctHL55fxCAP"
      }
    },
    {
      "cell_type": "code",
      "source": [
        "window_size = 2\n",
        "positive_skip_grams, _ = tf.keras.preprocessing.sequence.skipgrams(\n",
        "    example_sequence,\n",
        "    vocabulary_size=vocab_size,\n",
        "    window_size= window_size,\n",
        "    negative_samples=0)\n",
        "print(len(positive_skip_grams))\n",
        "\n",
        "for target, context in positive_skip_grams[:5]:\n",
        "  print(f\"({target}, {context}): ({inverse_vocab[target]},{inverse_vocab[context]}))\")"
      ],
      "metadata": {
        "colab": {
          "base_uri": "https://localhost:8080/"
        },
        "id": "sDxzvzF0xFKu",
        "outputId": "1ef84408-3f7f-4c03-80ba-6c4f146633ef"
      },
      "execution_count": null,
      "outputs": [
        {
          "output_type": "stream",
          "name": "stdout",
          "text": [
            "26\n",
            "(3, 5): (road,in))\n",
            "(7, 6): (sun,hot))\n",
            "(5, 3): (in,road))\n",
            "(5, 1): (in,the))\n",
            "(7, 1): (sun,the))\n"
          ]
        }
      ]
    },
    {
      "cell_type": "markdown",
      "source": [
        "Generar muestras negativas"
      ],
      "metadata": {
        "id": "P04O5w77zVdx"
      }
    },
    {
      "cell_type": "code",
      "source": [
        "target_word, context_word = positive_skip_grams[0]\n",
        "num_ns = 4 #Numero de muestras negativas\n",
        "\n",
        "context_class = tf.reshape(tf.constant(context_word, dtype=\"int64\"), (1,1))\n",
        "\n",
        "negative_sampling_candidates, _ , _ = tf.random.log_uniform_candidate_sampler(\n",
        "    true_classes=context_class,\n",
        "    num_true=1,\n",
        "    num_sampled = num_ns,\n",
        "    unique = True,\n",
        "    range_max = vocab_size,\n",
        "    seed = SEED,\n",
        "    name = \"negative_sampling\"\n",
        ")\n",
        "\n",
        "print(negative_sampling_candidates)\n",
        "print([inverse_vocab[index.numpy()] for index in negative_sampling_candidates])"
      ],
      "metadata": {
        "colab": {
          "base_uri": "https://localhost:8080/"
        },
        "id": "OERHBxdUzjkd",
        "outputId": "ea5666c9-8347-495c-b72a-facfb2d7958a"
      },
      "execution_count": null,
      "outputs": [
        {
          "output_type": "stream",
          "name": "stdout",
          "text": [
            "tf.Tensor([2 1 4 3], shape=(4,), dtype=int64)\n",
            "['wide', 'the', 'shimmered', 'road']\n"
          ]
        }
      ]
    },
    {
      "cell_type": "code",
      "source": [
        "squeezed_context_class = tf.squeeze(context_class, 1)\n",
        "context = tf.concat([squeezed_context_class, negative_sampling_candidates], 0)\n",
        "label = tf.constant([1] + [0] * num_ns, dtype=\"int64\")\n",
        "target = target_word\n",
        "\n",
        "print(f\"target_index     :{target}\")\n",
        "print(f\"target_word      :{inverse_vocab[target_word]}\")\n",
        "print(f\"context_indices  :{context}\")\n",
        "print(f\"context_words    :{[inverse_vocab[c.numpy()] for c in context]}\")\n",
        "print(f\"label            :{label}\")"
      ],
      "metadata": {
        "colab": {
          "base_uri": "https://localhost:8080/"
        },
        "id": "0tkLJdg927AK",
        "outputId": "377f2afb-45ff-49b8-a436-cc1d4348c675"
      },
      "execution_count": null,
      "outputs": [
        {
          "output_type": "stream",
          "name": "stdout",
          "text": [
            "target_index     :3\n",
            "target_word      :road\n",
            "context_indices  :[5 2 1 4 3]\n",
            "context_words    :['in', 'wide', 'the', 'shimmered', 'road']\n",
            "label            :[1 0 0 0 0]\n"
          ]
        }
      ]
    },
    {
      "cell_type": "markdown",
      "source": [
        "Generar datos de entrenamiento"
      ],
      "metadata": {
        "id": "rWWh6lzm5QKx"
      }
    },
    {
      "cell_type": "code",
      "source": [
        "def generate_training_data(sequences, window_size, num_ns, vocab_size, seed):\n",
        "  targets, contexts, labels =[],[],[]\n",
        "\n",
        "  sampling_table = tf.keras.preprocessing.sequence.make_sampling_table(vocab_size)\n",
        "\n",
        "  for sequence in tqdm.tqdm(sequences):\n",
        "\n",
        "    #Generar skip_gram positivo de cada palabra\n",
        "    positive_skip_grams, _ = tf.keras.preprocessing.sequence.skipgrams(\n",
        "      sequence,\n",
        "      vocabulary_size= vocab_size,\n",
        "      sampling_table=sampling_table,\n",
        "      window_size=window_size,\n",
        "      negative_samples=0)\n",
        "\n",
        "    #Generar muestras negativas\n",
        "    for target_word, context_word in positive_skip_grams:\n",
        "\n",
        "      context_class = tf.expand_dims(\n",
        "          tf.constant([context_word], dtype=\"int64\"), 1)\n",
        "\n",
        "      negative_sampling_candidates, _, _ =tf.random.log_uniform_candidate_sampler(\n",
        "          true_classes=context_class,\n",
        "          num_true=1,\n",
        "          num_sampled=num_ns,\n",
        "          unique=True,\n",
        "          range_max=vocab_size,\n",
        "          seed = seed,\n",
        "          name = \"negative_sampling\")\n",
        "\n",
        "      # Concatenar y etiquetas\n",
        "      context = tf.concat([tf.squeeze(context_class,1), negative_sampling_candidates], 0)\n",
        "      label = tf.constant([1] + [0]*num_ns, dtype=\"int64\")\n",
        "\n",
        "      #Agregar a la lista\n",
        "      targets.append(target_word)\n",
        "      contexts.append(context)\n",
        "      labels.append(label)\n",
        "\n",
        "  return targets, contexts, labels"
      ],
      "metadata": {
        "id": "fUnrGqRf5THO"
      },
      "execution_count": null,
      "outputs": []
    },
    {
      "cell_type": "markdown",
      "source": [
        "Descargar documento (Text Corpus)"
      ],
      "metadata": {
        "id": "DXuvTVwiBbcP"
      }
    },
    {
      "cell_type": "code",
      "source": [
        "path_to_file = tf.keras.utils.get_file('shakespeare.txt', 'https://storage.googleapis.com/download.tensorflow.org/data/shakespeare.txt')"
      ],
      "metadata": {
        "id": "fcRoCOoHBhdG",
        "colab": {
          "base_uri": "https://localhost:8080/"
        },
        "outputId": "6c957075-9c7f-44d2-8316-8227c24d29bd"
      },
      "execution_count": null,
      "outputs": [
        {
          "output_type": "stream",
          "name": "stdout",
          "text": [
            "Downloading data from https://storage.googleapis.com/download.tensorflow.org/data/shakespeare.txt\n",
            "1115394/1115394 [==============================] - 0s 0us/step\n"
          ]
        }
      ]
    },
    {
      "cell_type": "code",
      "source": [
        "text_ds = tf.data.TextLineDataset(path_to_file).filter(lambda x: tf.cast(tf.strings.length(x),bool))"
      ],
      "metadata": {
        "id": "6aqlFzBoC2Rf"
      },
      "execution_count": null,
      "outputs": []
    },
    {
      "cell_type": "markdown",
      "source": [
        "Estandarizacion"
      ],
      "metadata": {
        "id": "CsQTPSP0DdD1"
      }
    },
    {
      "cell_type": "code",
      "source": [
        "def custom_stadardization(input_data):\n",
        "  lowercase = tf.strings.lower(input_data)\n",
        "  return tf.strings.regex_replace(lowercase,\n",
        "                                  '[%s]' % re.escape(string.punctuation), '')\n",
        "\n",
        "vocab_size = 4096\n",
        "sequence_length = 10\n",
        "\n",
        "vectorize_layer = layers.TextVectorization(\n",
        "    standardize = custom_stadardization,\n",
        "    max_tokens = vocab_size,\n",
        "    output_mode = 'int',\n",
        "    output_sequence_length = sequence_length)\n",
        "\n",
        "vectorize_layer.adapt(text_ds.batch(1024))"
      ],
      "metadata": {
        "id": "5bU91R1LDhhT"
      },
      "execution_count": null,
      "outputs": []
    },
    {
      "cell_type": "code",
      "source": [
        "inverse_vocab = vectorize_layer.get_vocabulary()\n",
        "print(inverse_vocab[:20])"
      ],
      "metadata": {
        "colab": {
          "base_uri": "https://localhost:8080/"
        },
        "id": "8BDYfQ9dGFZO",
        "outputId": "ffb50a1a-511e-4732-a476-8e26dc7e6dc9"
      },
      "execution_count": null,
      "outputs": [
        {
          "output_type": "stream",
          "name": "stdout",
          "text": [
            "['', '[UNK]', 'the', 'and', 'to', 'i', 'of', 'you', 'my', 'a', 'that', 'in', 'is', 'not', 'for', 'with', 'me', 'it', 'be', 'your']\n"
          ]
        }
      ]
    },
    {
      "cell_type": "code",
      "source": [
        "text_vector_ds = text_ds.batch(1024).prefetch(AUTOTUNE).map(vectorize_layer).unbatch()"
      ],
      "metadata": {
        "id": "YmidU57iGf9C"
      },
      "execution_count": null,
      "outputs": []
    },
    {
      "cell_type": "code",
      "source": [
        "sequences = list(text_vector_ds.as_numpy_iterator())\n",
        "print(len(sequences))\n",
        "for seq in sequences[:10]:\n",
        "  print(f\"{seq} => {[inverse_vocab[i] for i in seq]}\")"
      ],
      "metadata": {
        "colab": {
          "base_uri": "https://localhost:8080/"
        },
        "id": "VoDDS1gVG-9_",
        "outputId": "28824076-8ba7-4fe5-fcbc-d75322975df1"
      },
      "execution_count": null,
      "outputs": [
        {
          "output_type": "stream",
          "name": "stdout",
          "text": [
            "32777\n",
            "[ 89 270   0   0   0   0   0   0   0   0] => ['first', 'citizen', '', '', '', '', '', '', '', '']\n",
            "[138  36 982 144 673 125  16 106   0   0] => ['before', 'we', 'proceed', 'any', 'further', 'hear', 'me', 'speak', '', '']\n",
            "[34  0  0  0  0  0  0  0  0  0] => ['all', '', '', '', '', '', '', '', '', '']\n",
            "[106 106   0   0   0   0   0   0   0   0] => ['speak', 'speak', '', '', '', '', '', '', '', '']\n",
            "[ 89 270   0   0   0   0   0   0   0   0] => ['first', 'citizen', '', '', '', '', '', '', '', '']\n",
            "[   7   41   34 1286  344    4  200   64    4 3690] => ['you', 'are', 'all', 'resolved', 'rather', 'to', 'die', 'than', 'to', 'famish']\n",
            "[34  0  0  0  0  0  0  0  0  0] => ['all', '', '', '', '', '', '', '', '', '']\n",
            "[1286 1286    0    0    0    0    0    0    0    0] => ['resolved', 'resolved', '', '', '', '', '', '', '', '']\n",
            "[ 89 270   0   0   0   0   0   0   0   0] => ['first', 'citizen', '', '', '', '', '', '', '', '']\n",
            "[  89    7   93 1187  225   12 2442  592    4    2] => ['first', 'you', 'know', 'caius', 'marcius', 'is', 'chief', 'enemy', 'to', 'the']\n"
          ]
        }
      ]
    },
    {
      "cell_type": "markdown",
      "source": [
        "Generar datos de entrenamiento"
      ],
      "metadata": {
        "id": "1UO-wCAOeemb"
      }
    },
    {
      "cell_type": "code",
      "source": [
        "targets, contexts, labels = generate_training_data(\n",
        "    sequences = sequences,\n",
        "    window_size= 2,\n",
        "    num_ns=4,\n",
        "    vocab_size=vocab_size,\n",
        "    seed=SEED\n",
        ")\n",
        "\n",
        "targets = np.array(targets)\n",
        "contexts = np.array(contexts)\n",
        "labels= np.array(labels)\n",
        "\n",
        "print('\\n')\n",
        "print(f\"targets.shape: {targets.shape}\")\n",
        "print(f\"contexts.shape: {contexts.shape}\")\n",
        "print(f\"labels.shape: {labels.shape}\")"
      ],
      "metadata": {
        "colab": {
          "base_uri": "https://localhost:8080/"
        },
        "id": "h-313HYXelQm",
        "outputId": "7a505787-241e-43fe-ed52-12294ab94870"
      },
      "execution_count": null,
      "outputs": [
        {
          "output_type": "stream",
          "name": "stderr",
          "text": [
            "100%|██████████| 32777/32777 [00:58<00:00, 562.17it/s]\n"
          ]
        },
        {
          "output_type": "stream",
          "name": "stdout",
          "text": [
            "\n",
            "\n",
            "targets.shape: (64721,)\n",
            "contexts.shape: (64721, 5)\n",
            "labels.shape: (64721, 5)\n"
          ]
        }
      ]
    },
    {
      "cell_type": "code",
      "source": [
        "BATCH_SIZE = 1024\n",
        "BUFFER_SIZE = 10000\n",
        "\n",
        "dataset = tf.data.Dataset.from_tensor_slices(((targets,contexts),labels))\n",
        "dataset = dataset.shuffle(BUFFER_SIZE).batch(BATCH_SIZE, drop_remainder = True)\n",
        "\n",
        "print(dataset)"
      ],
      "metadata": {
        "colab": {
          "base_uri": "https://localhost:8080/"
        },
        "id": "W9afUkDui-Jc",
        "outputId": "0d27c83d-25c8-42a1-ec82-594d9f8097ed"
      },
      "execution_count": null,
      "outputs": [
        {
          "output_type": "stream",
          "name": "stdout",
          "text": [
            "<_BatchDataset element_spec=((TensorSpec(shape=(1024,), dtype=tf.int64, name=None), TensorSpec(shape=(1024, 5), dtype=tf.int64, name=None)), TensorSpec(shape=(1024, 5), dtype=tf.int64, name=None))>\n"
          ]
        }
      ]
    },
    {
      "cell_type": "code",
      "source": [
        "dataser = dataset.cache().prefetch(buffer_size=AUTOTUNE)"
      ],
      "metadata": {
        "id": "0Uu5k1UMlbf9"
      },
      "execution_count": null,
      "outputs": []
    },
    {
      "cell_type": "markdown",
      "source": [
        "Modelo de la RED"
      ],
      "metadata": {
        "id": "2Ben3OczljcC"
      }
    },
    {
      "cell_type": "code",
      "source": [
        "class Word2Vec(tf.keras.Model):\n",
        "  def __init__(self, vocab_size, embedding_dim):\n",
        "    super(Word2Vec, self).__init__()\n",
        "    self.target_embedding = layers.Embedding(vocab_size,\n",
        "                                             embedding_dim,\n",
        "                                             input_length = 1,\n",
        "                                             name=\"W2v_embedding\")\n",
        "    self.context_embedding = layers.Embedding(vocab_size,\n",
        "                                             embedding_dim,\n",
        "                                             input_length = 5)\n",
        "  def call(self,pair):\n",
        "    target, context = pair\n",
        "    if len(target.shape) == 2:\n",
        "      target = tf.squeeze(target,axis=1)\n",
        "\n",
        "    word_emb = self.target_embedding(target)\n",
        "\n",
        "    context_emb = self.context_embedding(context)\n",
        "    dots = tf.einsum('be,bce->bc', word_emb, context_emb)\n",
        "\n",
        "    return dots"
      ],
      "metadata": {
        "id": "I8hPZVHQl37w"
      },
      "execution_count": null,
      "outputs": []
    },
    {
      "cell_type": "markdown",
      "source": [
        "Definir función de perdida y compilar"
      ],
      "metadata": {
        "id": "cyPFPxEyoosj"
      }
    },
    {
      "cell_type": "code",
      "source": [
        "def custom_loss(x_logit,y_true):\n",
        "  return tf.nn.sigmoid_cross_entropy_with_logits(logits=x_logit, labels=y_true)"
      ],
      "metadata": {
        "id": "uVHsiMDzo7eu"
      },
      "execution_count": null,
      "outputs": []
    },
    {
      "cell_type": "code",
      "source": [
        "embedding_dim=128\n",
        "word2vec = Word2Vec(vocab_size, embedding_dim)\n",
        "word2vec.compile(optimizer = 'adam',\n",
        "                 loss = tf.keras.losses.CategoricalCrossentropy(from_logits=True),\n",
        "                 metrics = ['accuracy'])"
      ],
      "metadata": {
        "id": "aazs2xU6pYW2"
      },
      "execution_count": null,
      "outputs": []
    },
    {
      "cell_type": "markdown",
      "source": [
        "Entrenamiento de la red"
      ],
      "metadata": {
        "id": "1G0_y4bFqFb_"
      }
    },
    {
      "cell_type": "code",
      "source": [
        "word2vec.fit(dataset, epochs=20)"
      ],
      "metadata": {
        "colab": {
          "base_uri": "https://localhost:8080/"
        },
        "id": "W7jshj2GqHQ9",
        "outputId": "c213e3d8-92ea-40c0-f550-8d1945775403"
      },
      "execution_count": null,
      "outputs": [
        {
          "output_type": "stream",
          "name": "stdout",
          "text": [
            "Epoch 1/20\n",
            "63/63 [==============================] - 14s 135ms/step - loss: 1.6083 - accuracy: 0.2306\n",
            "Epoch 2/20\n",
            "63/63 [==============================] - 4s 67ms/step - loss: 1.5898 - accuracy: 0.5562\n",
            "Epoch 3/20\n",
            "63/63 [==============================] - 3s 41ms/step - loss: 1.5441 - accuracy: 0.6153\n",
            "Epoch 4/20\n",
            "63/63 [==============================] - 2s 36ms/step - loss: 1.4628 - accuracy: 0.5889\n",
            "Epoch 5/20\n",
            "63/63 [==============================] - 1s 19ms/step - loss: 1.3647 - accuracy: 0.5896\n",
            "Epoch 6/20\n",
            "63/63 [==============================] - 1s 15ms/step - loss: 1.2674 - accuracy: 0.6143\n",
            "Epoch 7/20\n",
            "63/63 [==============================] - 1s 21ms/step - loss: 1.1768 - accuracy: 0.6468\n",
            "Epoch 8/20\n",
            "63/63 [==============================] - 1s 14ms/step - loss: 1.0929 - accuracy: 0.6793\n",
            "Epoch 9/20\n",
            "63/63 [==============================] - 1s 11ms/step - loss: 1.0155 - accuracy: 0.7110\n",
            "Epoch 10/20\n",
            "63/63 [==============================] - 1s 16ms/step - loss: 0.9436 - accuracy: 0.7383\n",
            "Epoch 11/20\n",
            "63/63 [==============================] - 1s 17ms/step - loss: 0.8773 - accuracy: 0.7629\n",
            "Epoch 12/20\n",
            "63/63 [==============================] - 1s 12ms/step - loss: 0.8160 - accuracy: 0.7843\n",
            "Epoch 13/20\n",
            "63/63 [==============================] - 1s 9ms/step - loss: 0.7592 - accuracy: 0.8048\n",
            "Epoch 14/20\n",
            "63/63 [==============================] - 1s 10ms/step - loss: 0.7071 - accuracy: 0.8211\n",
            "Epoch 15/20\n",
            "63/63 [==============================] - 1s 10ms/step - loss: 0.6593 - accuracy: 0.8356\n",
            "Epoch 16/20\n",
            "63/63 [==============================] - 1s 12ms/step - loss: 0.6156 - accuracy: 0.8489\n",
            "Epoch 17/20\n",
            "63/63 [==============================] - 1s 7ms/step - loss: 0.5757 - accuracy: 0.8613\n",
            "Epoch 18/20\n",
            "63/63 [==============================] - 0s 7ms/step - loss: 0.5393 - accuracy: 0.8719\n",
            "Epoch 19/20\n",
            "63/63 [==============================] - 1s 12ms/step - loss: 0.5059 - accuracy: 0.8826\n",
            "Epoch 20/20\n",
            "63/63 [==============================] - 1s 7ms/step - loss: 0.4757 - accuracy: 0.8913\n"
          ]
        },
        {
          "output_type": "execute_result",
          "data": {
            "text/plain": [
              "<keras.src.callbacks.History at 0x7ca59a637f10>"
            ]
          },
          "metadata": {},
          "execution_count": 34
        }
      ]
    },
    {
      "cell_type": "markdown",
      "source": [
        "Descargar pesos"
      ],
      "metadata": {
        "id": "vuGBOxRps6gA"
      }
    },
    {
      "cell_type": "code",
      "source": [
        "weight = word2vec.get_layer('W2v_embedding').get_weights()[0]\n",
        "vocab = vectorize_layer.get_vocabulary()\n",
        "\n",
        "out_v = io.open('vectors.tsv', 'w', encoding='utf-8')\n",
        "out_m = io.open('metadata.tsv', 'w', encoding='utf-8')\n",
        "\n",
        "for index, word in enumerate(vocab):\n",
        "  if index == 0:\n",
        "    continue\n",
        "  vec = weight[index]\n",
        "  out_v.write('\\t'.join([str(x) for x in vec]) + \"\\n\")\n",
        "  out_m.write(word + \"\\n\")\n",
        "out_v.close()\n",
        "out_m.close()"
      ],
      "metadata": {
        "id": "FBzfVUZgtA5P"
      },
      "execution_count": null,
      "outputs": []
    }
  ]
}