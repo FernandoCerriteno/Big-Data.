{
  "nbformat": 4,
  "nbformat_minor": 0,
  "metadata": {
    "colab": {
      "provenance": [],
      "include_colab_link": true
    },
    "kernelspec": {
      "name": "python3",
      "display_name": "Python 3"
    },
    "language_info": {
      "name": "python"
    }
  },
  "cells": [
    {
      "cell_type": "markdown",
      "metadata": {
        "id": "view-in-github",
        "colab_type": "text"
      },
      "source": [
        "<a href=\"https://colab.research.google.com/github/FernandoCerriteno/Portafolio-de-analisis/blob/main/Estad%C3%ADstica%20avanzada/Series_temporales.ipynb\" target=\"_parent\"><img src=\"https://colab.research.google.com/assets/colab-badge.svg\" alt=\"Open In Colab\"/></a>"
      ]
    },
    {
      "cell_type": "code",
      "source": [
        "!python.__version__"
      ],
      "metadata": {
        "id": "GpKfWZ-AEq_6",
        "outputId": "eca8352c-d08a-4621-d389-45cb72d93322",
        "colab": {
          "base_uri": "https://localhost:8080/"
        }
      },
      "execution_count": null,
      "outputs": [
        {
          "output_type": "stream",
          "name": "stdout",
          "text": [
            "/bin/bash: line 1: python.__version__: command not found\n"
          ]
        }
      ]
    },
    {
      "cell_type": "code",
      "execution_count": null,
      "metadata": {
        "id": "2vYHTiPJYmVo"
      },
      "outputs": [],
      "source": [
        "import numpy as np\n",
        "from statsmodels.api import Poisson\n",
        "import pandas as pd\n",
        "import matplotlib.pyplot as plt\n",
        "\n",
        "import statsmodels.api as sm\n",
        "\n",
        "from statsmodels.tsa.stattools import adfuller"
      ]
    },
    {
      "cell_type": "markdown",
      "source": [
        "<h2>Parte 1 Exploracion inicial de los\n",
        "datos"
      ],
      "metadata": {
        "id": "1ThroTgbCqHD"
      }
    },
    {
      "cell_type": "code",
      "source": [
        "data = pd.DataFrame(pd.read_csv(\"/content/dow_jones_index.data\", header=0, parse_dates=[0], index_col=[2], infer_datetime_format=True))"
      ],
      "metadata": {
        "id": "NEe_l2FUY3Sb"
      },
      "execution_count": null,
      "outputs": []
    },
    {
      "cell_type": "code",
      "source": [
        "df = data.drop(['quarter','stock','open','close','percent_change_volume_over_last_wk','previous_weeks_volume', 'next_weeks_open', 'next_weeks_close', 'percent_change_next_weeks_price', 'days_to_next_dividend', 'percent_return_next_dividend'], axis=1)"
      ],
      "metadata": {
        "id": "M7hcqFJ2Z2NY"
      },
      "execution_count": null,
      "outputs": []
    },
    {
      "cell_type": "code",
      "source": [
        "df.groupby(df.index).count()"
      ],
      "metadata": {
        "colab": {
          "base_uri": "https://localhost:8080/",
          "height": 864
        },
        "id": "qTWcItpTbWQ9",
        "outputId": "86e1b2cc-550f-42bb-df03-0205dbb8808a"
      },
      "execution_count": null,
      "outputs": [
        {
          "output_type": "execute_result",
          "data": {
            "text/plain": [
              "           high  low  volume  percent_change_price\n",
              "date                                              \n",
              "1/14/2011    30   30      30                    30\n",
              "1/21/2011    30   30      30                    30\n",
              "1/28/2011    30   30      30                    30\n",
              "1/7/2011     30   30      30                    30\n",
              "2/11/2011    30   30      30                    30\n",
              "2/18/2011    30   30      30                    30\n",
              "2/25/2011    30   30      30                    30\n",
              "2/4/2011     30   30      30                    30\n",
              "3/11/2011    30   30      30                    30\n",
              "3/18/2011    30   30      30                    30\n",
              "3/25/2011    30   30      30                    30\n",
              "3/4/2011     30   30      30                    30\n",
              "4/1/2011     30   30      30                    30\n",
              "4/15/2011    30   30      30                    30\n",
              "4/21/2011    30   30      30                    30\n",
              "4/29/2011    30   30      30                    30\n",
              "4/8/2011     30   30      30                    30\n",
              "5/13/2011    30   30      30                    30\n",
              "5/20/2011    30   30      30                    30\n",
              "5/27/2011    30   30      30                    30\n",
              "5/6/2011     30   30      30                    30\n",
              "6/10/2011    30   30      30                    30\n",
              "6/17/2011    30   30      30                    30\n",
              "6/24/2011    30   30      30                    30\n",
              "6/3/2011     30   30      30                    30"
            ],
            "text/html": [
              "\n",
              "  <div id=\"df-b00eb0d8-4496-40be-8663-617e5a8c7371\" class=\"colab-df-container\">\n",
              "    <div>\n",
              "<style scoped>\n",
              "    .dataframe tbody tr th:only-of-type {\n",
              "        vertical-align: middle;\n",
              "    }\n",
              "\n",
              "    .dataframe tbody tr th {\n",
              "        vertical-align: top;\n",
              "    }\n",
              "\n",
              "    .dataframe thead th {\n",
              "        text-align: right;\n",
              "    }\n",
              "</style>\n",
              "<table border=\"1\" class=\"dataframe\">\n",
              "  <thead>\n",
              "    <tr style=\"text-align: right;\">\n",
              "      <th></th>\n",
              "      <th>high</th>\n",
              "      <th>low</th>\n",
              "      <th>volume</th>\n",
              "      <th>percent_change_price</th>\n",
              "    </tr>\n",
              "    <tr>\n",
              "      <th>date</th>\n",
              "      <th></th>\n",
              "      <th></th>\n",
              "      <th></th>\n",
              "      <th></th>\n",
              "    </tr>\n",
              "  </thead>\n",
              "  <tbody>\n",
              "    <tr>\n",
              "      <th>1/14/2011</th>\n",
              "      <td>30</td>\n",
              "      <td>30</td>\n",
              "      <td>30</td>\n",
              "      <td>30</td>\n",
              "    </tr>\n",
              "    <tr>\n",
              "      <th>1/21/2011</th>\n",
              "      <td>30</td>\n",
              "      <td>30</td>\n",
              "      <td>30</td>\n",
              "      <td>30</td>\n",
              "    </tr>\n",
              "    <tr>\n",
              "      <th>1/28/2011</th>\n",
              "      <td>30</td>\n",
              "      <td>30</td>\n",
              "      <td>30</td>\n",
              "      <td>30</td>\n",
              "    </tr>\n",
              "    <tr>\n",
              "      <th>1/7/2011</th>\n",
              "      <td>30</td>\n",
              "      <td>30</td>\n",
              "      <td>30</td>\n",
              "      <td>30</td>\n",
              "    </tr>\n",
              "    <tr>\n",
              "      <th>2/11/2011</th>\n",
              "      <td>30</td>\n",
              "      <td>30</td>\n",
              "      <td>30</td>\n",
              "      <td>30</td>\n",
              "    </tr>\n",
              "    <tr>\n",
              "      <th>2/18/2011</th>\n",
              "      <td>30</td>\n",
              "      <td>30</td>\n",
              "      <td>30</td>\n",
              "      <td>30</td>\n",
              "    </tr>\n",
              "    <tr>\n",
              "      <th>2/25/2011</th>\n",
              "      <td>30</td>\n",
              "      <td>30</td>\n",
              "      <td>30</td>\n",
              "      <td>30</td>\n",
              "    </tr>\n",
              "    <tr>\n",
              "      <th>2/4/2011</th>\n",
              "      <td>30</td>\n",
              "      <td>30</td>\n",
              "      <td>30</td>\n",
              "      <td>30</td>\n",
              "    </tr>\n",
              "    <tr>\n",
              "      <th>3/11/2011</th>\n",
              "      <td>30</td>\n",
              "      <td>30</td>\n",
              "      <td>30</td>\n",
              "      <td>30</td>\n",
              "    </tr>\n",
              "    <tr>\n",
              "      <th>3/18/2011</th>\n",
              "      <td>30</td>\n",
              "      <td>30</td>\n",
              "      <td>30</td>\n",
              "      <td>30</td>\n",
              "    </tr>\n",
              "    <tr>\n",
              "      <th>3/25/2011</th>\n",
              "      <td>30</td>\n",
              "      <td>30</td>\n",
              "      <td>30</td>\n",
              "      <td>30</td>\n",
              "    </tr>\n",
              "    <tr>\n",
              "      <th>3/4/2011</th>\n",
              "      <td>30</td>\n",
              "      <td>30</td>\n",
              "      <td>30</td>\n",
              "      <td>30</td>\n",
              "    </tr>\n",
              "    <tr>\n",
              "      <th>4/1/2011</th>\n",
              "      <td>30</td>\n",
              "      <td>30</td>\n",
              "      <td>30</td>\n",
              "      <td>30</td>\n",
              "    </tr>\n",
              "    <tr>\n",
              "      <th>4/15/2011</th>\n",
              "      <td>30</td>\n",
              "      <td>30</td>\n",
              "      <td>30</td>\n",
              "      <td>30</td>\n",
              "    </tr>\n",
              "    <tr>\n",
              "      <th>4/21/2011</th>\n",
              "      <td>30</td>\n",
              "      <td>30</td>\n",
              "      <td>30</td>\n",
              "      <td>30</td>\n",
              "    </tr>\n",
              "    <tr>\n",
              "      <th>4/29/2011</th>\n",
              "      <td>30</td>\n",
              "      <td>30</td>\n",
              "      <td>30</td>\n",
              "      <td>30</td>\n",
              "    </tr>\n",
              "    <tr>\n",
              "      <th>4/8/2011</th>\n",
              "      <td>30</td>\n",
              "      <td>30</td>\n",
              "      <td>30</td>\n",
              "      <td>30</td>\n",
              "    </tr>\n",
              "    <tr>\n",
              "      <th>5/13/2011</th>\n",
              "      <td>30</td>\n",
              "      <td>30</td>\n",
              "      <td>30</td>\n",
              "      <td>30</td>\n",
              "    </tr>\n",
              "    <tr>\n",
              "      <th>5/20/2011</th>\n",
              "      <td>30</td>\n",
              "      <td>30</td>\n",
              "      <td>30</td>\n",
              "      <td>30</td>\n",
              "    </tr>\n",
              "    <tr>\n",
              "      <th>5/27/2011</th>\n",
              "      <td>30</td>\n",
              "      <td>30</td>\n",
              "      <td>30</td>\n",
              "      <td>30</td>\n",
              "    </tr>\n",
              "    <tr>\n",
              "      <th>5/6/2011</th>\n",
              "      <td>30</td>\n",
              "      <td>30</td>\n",
              "      <td>30</td>\n",
              "      <td>30</td>\n",
              "    </tr>\n",
              "    <tr>\n",
              "      <th>6/10/2011</th>\n",
              "      <td>30</td>\n",
              "      <td>30</td>\n",
              "      <td>30</td>\n",
              "      <td>30</td>\n",
              "    </tr>\n",
              "    <tr>\n",
              "      <th>6/17/2011</th>\n",
              "      <td>30</td>\n",
              "      <td>30</td>\n",
              "      <td>30</td>\n",
              "      <td>30</td>\n",
              "    </tr>\n",
              "    <tr>\n",
              "      <th>6/24/2011</th>\n",
              "      <td>30</td>\n",
              "      <td>30</td>\n",
              "      <td>30</td>\n",
              "      <td>30</td>\n",
              "    </tr>\n",
              "    <tr>\n",
              "      <th>6/3/2011</th>\n",
              "      <td>30</td>\n",
              "      <td>30</td>\n",
              "      <td>30</td>\n",
              "      <td>30</td>\n",
              "    </tr>\n",
              "  </tbody>\n",
              "</table>\n",
              "</div>\n",
              "    <div class=\"colab-df-buttons\">\n",
              "\n",
              "  <div class=\"colab-df-container\">\n",
              "    <button class=\"colab-df-convert\" onclick=\"convertToInteractive('df-b00eb0d8-4496-40be-8663-617e5a8c7371')\"\n",
              "            title=\"Convert this dataframe to an interactive table.\"\n",
              "            style=\"display:none;\">\n",
              "\n",
              "  <svg xmlns=\"http://www.w3.org/2000/svg\" height=\"24px\" viewBox=\"0 -960 960 960\">\n",
              "    <path d=\"M120-120v-720h720v720H120Zm60-500h600v-160H180v160Zm220 220h160v-160H400v160Zm0 220h160v-160H400v160ZM180-400h160v-160H180v160Zm440 0h160v-160H620v160ZM180-180h160v-160H180v160Zm440 0h160v-160H620v160Z\"/>\n",
              "  </svg>\n",
              "    </button>\n",
              "\n",
              "  <style>\n",
              "    .colab-df-container {\n",
              "      display:flex;\n",
              "      gap: 12px;\n",
              "    }\n",
              "\n",
              "    .colab-df-convert {\n",
              "      background-color: #E8F0FE;\n",
              "      border: none;\n",
              "      border-radius: 50%;\n",
              "      cursor: pointer;\n",
              "      display: none;\n",
              "      fill: #1967D2;\n",
              "      height: 32px;\n",
              "      padding: 0 0 0 0;\n",
              "      width: 32px;\n",
              "    }\n",
              "\n",
              "    .colab-df-convert:hover {\n",
              "      background-color: #E2EBFA;\n",
              "      box-shadow: 0px 1px 2px rgba(60, 64, 67, 0.3), 0px 1px 3px 1px rgba(60, 64, 67, 0.15);\n",
              "      fill: #174EA6;\n",
              "    }\n",
              "\n",
              "    .colab-df-buttons div {\n",
              "      margin-bottom: 4px;\n",
              "    }\n",
              "\n",
              "    [theme=dark] .colab-df-convert {\n",
              "      background-color: #3B4455;\n",
              "      fill: #D2E3FC;\n",
              "    }\n",
              "\n",
              "    [theme=dark] .colab-df-convert:hover {\n",
              "      background-color: #434B5C;\n",
              "      box-shadow: 0px 1px 3px 1px rgba(0, 0, 0, 0.15);\n",
              "      filter: drop-shadow(0px 1px 2px rgba(0, 0, 0, 0.3));\n",
              "      fill: #FFFFFF;\n",
              "    }\n",
              "  </style>\n",
              "\n",
              "    <script>\n",
              "      const buttonEl =\n",
              "        document.querySelector('#df-b00eb0d8-4496-40be-8663-617e5a8c7371 button.colab-df-convert');\n",
              "      buttonEl.style.display =\n",
              "        google.colab.kernel.accessAllowed ? 'block' : 'none';\n",
              "\n",
              "      async function convertToInteractive(key) {\n",
              "        const element = document.querySelector('#df-b00eb0d8-4496-40be-8663-617e5a8c7371');\n",
              "        const dataTable =\n",
              "          await google.colab.kernel.invokeFunction('convertToInteractive',\n",
              "                                                    [key], {});\n",
              "        if (!dataTable) return;\n",
              "\n",
              "        const docLinkHtml = 'Like what you see? Visit the ' +\n",
              "          '<a target=\"_blank\" href=https://colab.research.google.com/notebooks/data_table.ipynb>data table notebook</a>'\n",
              "          + ' to learn more about interactive tables.';\n",
              "        element.innerHTML = '';\n",
              "        dataTable['output_type'] = 'display_data';\n",
              "        await google.colab.output.renderOutput(dataTable, element);\n",
              "        const docLink = document.createElement('div');\n",
              "        docLink.innerHTML = docLinkHtml;\n",
              "        element.appendChild(docLink);\n",
              "      }\n",
              "    </script>\n",
              "  </div>\n",
              "\n",
              "\n",
              "<div id=\"df-83739689-4287-4396-a91c-b181af1cdf0d\">\n",
              "  <button class=\"colab-df-quickchart\" onclick=\"quickchart('df-83739689-4287-4396-a91c-b181af1cdf0d')\"\n",
              "            title=\"Suggest charts\"\n",
              "            style=\"display:none;\">\n",
              "\n",
              "<svg xmlns=\"http://www.w3.org/2000/svg\" height=\"24px\"viewBox=\"0 0 24 24\"\n",
              "     width=\"24px\">\n",
              "    <g>\n",
              "        <path d=\"M19 3H5c-1.1 0-2 .9-2 2v14c0 1.1.9 2 2 2h14c1.1 0 2-.9 2-2V5c0-1.1-.9-2-2-2zM9 17H7v-7h2v7zm4 0h-2V7h2v10zm4 0h-2v-4h2v4z\"/>\n",
              "    </g>\n",
              "</svg>\n",
              "  </button>\n",
              "\n",
              "<style>\n",
              "  .colab-df-quickchart {\n",
              "      --bg-color: #E8F0FE;\n",
              "      --fill-color: #1967D2;\n",
              "      --hover-bg-color: #E2EBFA;\n",
              "      --hover-fill-color: #174EA6;\n",
              "      --disabled-fill-color: #AAA;\n",
              "      --disabled-bg-color: #DDD;\n",
              "  }\n",
              "\n",
              "  [theme=dark] .colab-df-quickchart {\n",
              "      --bg-color: #3B4455;\n",
              "      --fill-color: #D2E3FC;\n",
              "      --hover-bg-color: #434B5C;\n",
              "      --hover-fill-color: #FFFFFF;\n",
              "      --disabled-bg-color: #3B4455;\n",
              "      --disabled-fill-color: #666;\n",
              "  }\n",
              "\n",
              "  .colab-df-quickchart {\n",
              "    background-color: var(--bg-color);\n",
              "    border: none;\n",
              "    border-radius: 50%;\n",
              "    cursor: pointer;\n",
              "    display: none;\n",
              "    fill: var(--fill-color);\n",
              "    height: 32px;\n",
              "    padding: 0;\n",
              "    width: 32px;\n",
              "  }\n",
              "\n",
              "  .colab-df-quickchart:hover {\n",
              "    background-color: var(--hover-bg-color);\n",
              "    box-shadow: 0 1px 2px rgba(60, 64, 67, 0.3), 0 1px 3px 1px rgba(60, 64, 67, 0.15);\n",
              "    fill: var(--button-hover-fill-color);\n",
              "  }\n",
              "\n",
              "  .colab-df-quickchart-complete:disabled,\n",
              "  .colab-df-quickchart-complete:disabled:hover {\n",
              "    background-color: var(--disabled-bg-color);\n",
              "    fill: var(--disabled-fill-color);\n",
              "    box-shadow: none;\n",
              "  }\n",
              "\n",
              "  .colab-df-spinner {\n",
              "    border: 2px solid var(--fill-color);\n",
              "    border-color: transparent;\n",
              "    border-bottom-color: var(--fill-color);\n",
              "    animation:\n",
              "      spin 1s steps(1) infinite;\n",
              "  }\n",
              "\n",
              "  @keyframes spin {\n",
              "    0% {\n",
              "      border-color: transparent;\n",
              "      border-bottom-color: var(--fill-color);\n",
              "      border-left-color: var(--fill-color);\n",
              "    }\n",
              "    20% {\n",
              "      border-color: transparent;\n",
              "      border-left-color: var(--fill-color);\n",
              "      border-top-color: var(--fill-color);\n",
              "    }\n",
              "    30% {\n",
              "      border-color: transparent;\n",
              "      border-left-color: var(--fill-color);\n",
              "      border-top-color: var(--fill-color);\n",
              "      border-right-color: var(--fill-color);\n",
              "    }\n",
              "    40% {\n",
              "      border-color: transparent;\n",
              "      border-right-color: var(--fill-color);\n",
              "      border-top-color: var(--fill-color);\n",
              "    }\n",
              "    60% {\n",
              "      border-color: transparent;\n",
              "      border-right-color: var(--fill-color);\n",
              "    }\n",
              "    80% {\n",
              "      border-color: transparent;\n",
              "      border-right-color: var(--fill-color);\n",
              "      border-bottom-color: var(--fill-color);\n",
              "    }\n",
              "    90% {\n",
              "      border-color: transparent;\n",
              "      border-bottom-color: var(--fill-color);\n",
              "    }\n",
              "  }\n",
              "</style>\n",
              "\n",
              "  <script>\n",
              "    async function quickchart(key) {\n",
              "      const quickchartButtonEl =\n",
              "        document.querySelector('#' + key + ' button');\n",
              "      quickchartButtonEl.disabled = true;  // To prevent multiple clicks.\n",
              "      quickchartButtonEl.classList.add('colab-df-spinner');\n",
              "      try {\n",
              "        const charts = await google.colab.kernel.invokeFunction(\n",
              "            'suggestCharts', [key], {});\n",
              "      } catch (error) {\n",
              "        console.error('Error during call to suggestCharts:', error);\n",
              "      }\n",
              "      quickchartButtonEl.classList.remove('colab-df-spinner');\n",
              "      quickchartButtonEl.classList.add('colab-df-quickchart-complete');\n",
              "    }\n",
              "    (() => {\n",
              "      let quickchartButtonEl =\n",
              "        document.querySelector('#df-83739689-4287-4396-a91c-b181af1cdf0d button');\n",
              "      quickchartButtonEl.style.display =\n",
              "        google.colab.kernel.accessAllowed ? 'block' : 'none';\n",
              "    })();\n",
              "  </script>\n",
              "</div>\n",
              "    </div>\n",
              "  </div>\n"
            ]
          },
          "metadata": {},
          "execution_count": 39
        }
      ]
    },
    {
      "cell_type": "code",
      "source": [
        "df.index = pd.to_datetime(df.index)\n",
        "df.index"
      ],
      "metadata": {
        "colab": {
          "base_uri": "https://localhost:8080/"
        },
        "id": "uRH030GRcXKV",
        "outputId": "5723709d-afd0-472a-97f7-8383621f0198"
      },
      "execution_count": null,
      "outputs": [
        {
          "output_type": "execute_result",
          "data": {
            "text/plain": [
              "DatetimeIndex(['2011-01-07', '2011-01-14', '2011-01-21', '2011-01-28',\n",
              "               '2011-02-04', '2011-02-11', '2011-02-18', '2011-02-25',\n",
              "               '2011-03-04', '2011-03-11',\n",
              "               ...\n",
              "               '2011-04-21', '2011-04-29', '2011-05-06', '2011-05-13',\n",
              "               '2011-05-20', '2011-05-27', '2011-06-03', '2011-06-10',\n",
              "               '2011-06-17', '2011-06-24'],\n",
              "              dtype='datetime64[ns]', name='date', length=750, freq=None)"
            ]
          },
          "metadata": {},
          "execution_count": 40
        }
      ]
    },
    {
      "cell_type": "code",
      "source": [
        "ds = df.index.to_series()"
      ],
      "metadata": {
        "id": "vGVwqz6tbabL"
      },
      "execution_count": null,
      "outputs": []
    },
    {
      "cell_type": "code",
      "source": [
        "df['MONTH'] = ds.dt.month\n",
        "df['DAY_OF_WEEK'] = ds.dt.dayofweek\n",
        "df['DAY'] = ds.dt.day"
      ],
      "metadata": {
        "id": "Ebcj10Hpbol-"
      },
      "execution_count": null,
      "outputs": []
    },
    {
      "cell_type": "code",
      "source": [
        "df = df.sort_index()\n",
        "df.high = df.high.str.replace('$', '', regex=True)\n",
        "df.low = df.low.str.replace('$', '', regex=True)"
      ],
      "metadata": {
        "id": "YRdWDpjQH4Ls"
      },
      "execution_count": null,
      "outputs": []
    },
    {
      "cell_type": "code",
      "source": [
        "df.high = df.high.astype(float)\n",
        "df.low = df.low.astype(float)"
      ],
      "metadata": {
        "id": "nHB99OieIw1_"
      },
      "execution_count": null,
      "outputs": []
    },
    {
      "cell_type": "code",
      "source": [
        "df = df.groupby(df.index).mean()"
      ],
      "metadata": {
        "id": "mdlgtWGB4pdH"
      },
      "execution_count": null,
      "outputs": []
    },
    {
      "cell_type": "code",
      "source": [
        "df['2011']"
      ],
      "metadata": {
        "colab": {
          "base_uri": "https://localhost:8080/",
          "height": 921
        },
        "id": "Uff8sqefdcaS",
        "outputId": "e575ab36-8357-4724-a681-b157614cb49f"
      },
      "execution_count": null,
      "outputs": [
        {
          "output_type": "stream",
          "name": "stderr",
          "text": [
            "<ipython-input-46-7a650ef42ac8>:1: FutureWarning: Indexing a DataFrame with a datetimelike index using a single string to slice the rows, like `frame[string]`, is deprecated and will be removed in a future version. Use `frame.loc[string]` instead.\n",
            "  df['2011']\n"
          ]
        },
        {
          "output_type": "execute_result",
          "data": {
            "text/plain": [
              "                 high        low        volume  percent_change_price  MONTH  \\\n",
              "date                                                                          \n",
              "2011-01-07  52.394333  50.535000  1.641992e+08              0.533190    1.0   \n",
              "2011-01-14  52.315333  50.572000  1.090246e+08              1.322282    1.0   \n",
              "2011-01-21  52.934333  51.229333  1.223585e+08              0.156960    1.0   \n",
              "2011-01-28  53.713667  51.400333  1.507353e+08             -0.597219    1.0   \n",
              "2011-02-04  53.592333  51.746333  1.199585e+08              2.099038    2.0   \n",
              "2011-02-11  54.679333  52.763000  1.371438e+08              0.922095    2.0   \n",
              "2011-02-18  54.773000  53.369667  8.658673e+07              0.994382    2.0   \n",
              "2011-02-25  54.817667  52.432667  1.141245e+08             -1.331562    2.0   \n",
              "2011-03-04  54.496333  52.576667  1.204931e+08             -0.174938    3.0   \n",
              "2011-03-11  54.485667  52.070667  1.184469e+08             -1.104409    3.0   \n",
              "2011-03-18  53.392667  50.706000  1.572290e+08             -1.168365    3.0   \n",
              "2011-03-25  54.193667  52.366000  1.044030e+08              1.495959    3.0   \n",
              "2011-04-01  55.040000  53.269667  1.071276e+08              0.831334    4.0   \n",
              "2011-04-08  55.256000  53.895667  1.063614e+08              0.170317    4.0   \n",
              "2011-04-15  55.325333  53.272000  1.088940e+08             -0.714650    4.0   \n",
              "2011-04-21  55.420667  53.016667  8.382196e+07              1.975618    4.0   \n",
              "2011-04-29  56.830667  54.498000  1.238058e+08              2.451867    4.0   \n",
              "2011-05-06  57.190000  54.832333  1.247516e+08             -1.317455    5.0   \n",
              "2011-05-13  56.773333  54.709333  1.174370e+08             -0.372538    5.0   \n",
              "2011-05-20  56.202000  54.218333  1.210239e+08             -0.635752    5.0   \n",
              "2011-05-27  55.176000  53.734000  8.262061e+07              0.769748    5.0   \n",
              "2011-06-03  55.557000  52.807333  9.284393e+07             -3.257622    6.0   \n",
              "2011-06-10  54.100333  52.077333  1.164434e+08             -1.733586    6.0   \n",
              "2011-06-17  53.990333  51.916667  1.274691e+08              0.122466    6.0   \n",
              "2011-06-24  54.099667  51.989000  1.213916e+08             -0.180597    6.0   \n",
              "\n",
              "            DAY_OF_WEEK   DAY  \n",
              "date                           \n",
              "2011-01-07          4.0   7.0  \n",
              "2011-01-14          4.0  14.0  \n",
              "2011-01-21          4.0  21.0  \n",
              "2011-01-28          4.0  28.0  \n",
              "2011-02-04          4.0   4.0  \n",
              "2011-02-11          4.0  11.0  \n",
              "2011-02-18          4.0  18.0  \n",
              "2011-02-25          4.0  25.0  \n",
              "2011-03-04          4.0   4.0  \n",
              "2011-03-11          4.0  11.0  \n",
              "2011-03-18          4.0  18.0  \n",
              "2011-03-25          4.0  25.0  \n",
              "2011-04-01          4.0   1.0  \n",
              "2011-04-08          4.0   8.0  \n",
              "2011-04-15          4.0  15.0  \n",
              "2011-04-21          3.0  21.0  \n",
              "2011-04-29          4.0  29.0  \n",
              "2011-05-06          4.0   6.0  \n",
              "2011-05-13          4.0  13.0  \n",
              "2011-05-20          4.0  20.0  \n",
              "2011-05-27          4.0  27.0  \n",
              "2011-06-03          4.0   3.0  \n",
              "2011-06-10          4.0  10.0  \n",
              "2011-06-17          4.0  17.0  \n",
              "2011-06-24          4.0  24.0  "
            ],
            "text/html": [
              "\n",
              "  <div id=\"df-8387efd1-4f8e-4bb2-bb8f-36b303885f45\" class=\"colab-df-container\">\n",
              "    <div>\n",
              "<style scoped>\n",
              "    .dataframe tbody tr th:only-of-type {\n",
              "        vertical-align: middle;\n",
              "    }\n",
              "\n",
              "    .dataframe tbody tr th {\n",
              "        vertical-align: top;\n",
              "    }\n",
              "\n",
              "    .dataframe thead th {\n",
              "        text-align: right;\n",
              "    }\n",
              "</style>\n",
              "<table border=\"1\" class=\"dataframe\">\n",
              "  <thead>\n",
              "    <tr style=\"text-align: right;\">\n",
              "      <th></th>\n",
              "      <th>high</th>\n",
              "      <th>low</th>\n",
              "      <th>volume</th>\n",
              "      <th>percent_change_price</th>\n",
              "      <th>MONTH</th>\n",
              "      <th>DAY_OF_WEEK</th>\n",
              "      <th>DAY</th>\n",
              "    </tr>\n",
              "    <tr>\n",
              "      <th>date</th>\n",
              "      <th></th>\n",
              "      <th></th>\n",
              "      <th></th>\n",
              "      <th></th>\n",
              "      <th></th>\n",
              "      <th></th>\n",
              "      <th></th>\n",
              "    </tr>\n",
              "  </thead>\n",
              "  <tbody>\n",
              "    <tr>\n",
              "      <th>2011-01-07</th>\n",
              "      <td>52.394333</td>\n",
              "      <td>50.535000</td>\n",
              "      <td>1.641992e+08</td>\n",
              "      <td>0.533190</td>\n",
              "      <td>1.0</td>\n",
              "      <td>4.0</td>\n",
              "      <td>7.0</td>\n",
              "    </tr>\n",
              "    <tr>\n",
              "      <th>2011-01-14</th>\n",
              "      <td>52.315333</td>\n",
              "      <td>50.572000</td>\n",
              "      <td>1.090246e+08</td>\n",
              "      <td>1.322282</td>\n",
              "      <td>1.0</td>\n",
              "      <td>4.0</td>\n",
              "      <td>14.0</td>\n",
              "    </tr>\n",
              "    <tr>\n",
              "      <th>2011-01-21</th>\n",
              "      <td>52.934333</td>\n",
              "      <td>51.229333</td>\n",
              "      <td>1.223585e+08</td>\n",
              "      <td>0.156960</td>\n",
              "      <td>1.0</td>\n",
              "      <td>4.0</td>\n",
              "      <td>21.0</td>\n",
              "    </tr>\n",
              "    <tr>\n",
              "      <th>2011-01-28</th>\n",
              "      <td>53.713667</td>\n",
              "      <td>51.400333</td>\n",
              "      <td>1.507353e+08</td>\n",
              "      <td>-0.597219</td>\n",
              "      <td>1.0</td>\n",
              "      <td>4.0</td>\n",
              "      <td>28.0</td>\n",
              "    </tr>\n",
              "    <tr>\n",
              "      <th>2011-02-04</th>\n",
              "      <td>53.592333</td>\n",
              "      <td>51.746333</td>\n",
              "      <td>1.199585e+08</td>\n",
              "      <td>2.099038</td>\n",
              "      <td>2.0</td>\n",
              "      <td>4.0</td>\n",
              "      <td>4.0</td>\n",
              "    </tr>\n",
              "    <tr>\n",
              "      <th>2011-02-11</th>\n",
              "      <td>54.679333</td>\n",
              "      <td>52.763000</td>\n",
              "      <td>1.371438e+08</td>\n",
              "      <td>0.922095</td>\n",
              "      <td>2.0</td>\n",
              "      <td>4.0</td>\n",
              "      <td>11.0</td>\n",
              "    </tr>\n",
              "    <tr>\n",
              "      <th>2011-02-18</th>\n",
              "      <td>54.773000</td>\n",
              "      <td>53.369667</td>\n",
              "      <td>8.658673e+07</td>\n",
              "      <td>0.994382</td>\n",
              "      <td>2.0</td>\n",
              "      <td>4.0</td>\n",
              "      <td>18.0</td>\n",
              "    </tr>\n",
              "    <tr>\n",
              "      <th>2011-02-25</th>\n",
              "      <td>54.817667</td>\n",
              "      <td>52.432667</td>\n",
              "      <td>1.141245e+08</td>\n",
              "      <td>-1.331562</td>\n",
              "      <td>2.0</td>\n",
              "      <td>4.0</td>\n",
              "      <td>25.0</td>\n",
              "    </tr>\n",
              "    <tr>\n",
              "      <th>2011-03-04</th>\n",
              "      <td>54.496333</td>\n",
              "      <td>52.576667</td>\n",
              "      <td>1.204931e+08</td>\n",
              "      <td>-0.174938</td>\n",
              "      <td>3.0</td>\n",
              "      <td>4.0</td>\n",
              "      <td>4.0</td>\n",
              "    </tr>\n",
              "    <tr>\n",
              "      <th>2011-03-11</th>\n",
              "      <td>54.485667</td>\n",
              "      <td>52.070667</td>\n",
              "      <td>1.184469e+08</td>\n",
              "      <td>-1.104409</td>\n",
              "      <td>3.0</td>\n",
              "      <td>4.0</td>\n",
              "      <td>11.0</td>\n",
              "    </tr>\n",
              "    <tr>\n",
              "      <th>2011-03-18</th>\n",
              "      <td>53.392667</td>\n",
              "      <td>50.706000</td>\n",
              "      <td>1.572290e+08</td>\n",
              "      <td>-1.168365</td>\n",
              "      <td>3.0</td>\n",
              "      <td>4.0</td>\n",
              "      <td>18.0</td>\n",
              "    </tr>\n",
              "    <tr>\n",
              "      <th>2011-03-25</th>\n",
              "      <td>54.193667</td>\n",
              "      <td>52.366000</td>\n",
              "      <td>1.044030e+08</td>\n",
              "      <td>1.495959</td>\n",
              "      <td>3.0</td>\n",
              "      <td>4.0</td>\n",
              "      <td>25.0</td>\n",
              "    </tr>\n",
              "    <tr>\n",
              "      <th>2011-04-01</th>\n",
              "      <td>55.040000</td>\n",
              "      <td>53.269667</td>\n",
              "      <td>1.071276e+08</td>\n",
              "      <td>0.831334</td>\n",
              "      <td>4.0</td>\n",
              "      <td>4.0</td>\n",
              "      <td>1.0</td>\n",
              "    </tr>\n",
              "    <tr>\n",
              "      <th>2011-04-08</th>\n",
              "      <td>55.256000</td>\n",
              "      <td>53.895667</td>\n",
              "      <td>1.063614e+08</td>\n",
              "      <td>0.170317</td>\n",
              "      <td>4.0</td>\n",
              "      <td>4.0</td>\n",
              "      <td>8.0</td>\n",
              "    </tr>\n",
              "    <tr>\n",
              "      <th>2011-04-15</th>\n",
              "      <td>55.325333</td>\n",
              "      <td>53.272000</td>\n",
              "      <td>1.088940e+08</td>\n",
              "      <td>-0.714650</td>\n",
              "      <td>4.0</td>\n",
              "      <td>4.0</td>\n",
              "      <td>15.0</td>\n",
              "    </tr>\n",
              "    <tr>\n",
              "      <th>2011-04-21</th>\n",
              "      <td>55.420667</td>\n",
              "      <td>53.016667</td>\n",
              "      <td>8.382196e+07</td>\n",
              "      <td>1.975618</td>\n",
              "      <td>4.0</td>\n",
              "      <td>3.0</td>\n",
              "      <td>21.0</td>\n",
              "    </tr>\n",
              "    <tr>\n",
              "      <th>2011-04-29</th>\n",
              "      <td>56.830667</td>\n",
              "      <td>54.498000</td>\n",
              "      <td>1.238058e+08</td>\n",
              "      <td>2.451867</td>\n",
              "      <td>4.0</td>\n",
              "      <td>4.0</td>\n",
              "      <td>29.0</td>\n",
              "    </tr>\n",
              "    <tr>\n",
              "      <th>2011-05-06</th>\n",
              "      <td>57.190000</td>\n",
              "      <td>54.832333</td>\n",
              "      <td>1.247516e+08</td>\n",
              "      <td>-1.317455</td>\n",
              "      <td>5.0</td>\n",
              "      <td>4.0</td>\n",
              "      <td>6.0</td>\n",
              "    </tr>\n",
              "    <tr>\n",
              "      <th>2011-05-13</th>\n",
              "      <td>56.773333</td>\n",
              "      <td>54.709333</td>\n",
              "      <td>1.174370e+08</td>\n",
              "      <td>-0.372538</td>\n",
              "      <td>5.0</td>\n",
              "      <td>4.0</td>\n",
              "      <td>13.0</td>\n",
              "    </tr>\n",
              "    <tr>\n",
              "      <th>2011-05-20</th>\n",
              "      <td>56.202000</td>\n",
              "      <td>54.218333</td>\n",
              "      <td>1.210239e+08</td>\n",
              "      <td>-0.635752</td>\n",
              "      <td>5.0</td>\n",
              "      <td>4.0</td>\n",
              "      <td>20.0</td>\n",
              "    </tr>\n",
              "    <tr>\n",
              "      <th>2011-05-27</th>\n",
              "      <td>55.176000</td>\n",
              "      <td>53.734000</td>\n",
              "      <td>8.262061e+07</td>\n",
              "      <td>0.769748</td>\n",
              "      <td>5.0</td>\n",
              "      <td>4.0</td>\n",
              "      <td>27.0</td>\n",
              "    </tr>\n",
              "    <tr>\n",
              "      <th>2011-06-03</th>\n",
              "      <td>55.557000</td>\n",
              "      <td>52.807333</td>\n",
              "      <td>9.284393e+07</td>\n",
              "      <td>-3.257622</td>\n",
              "      <td>6.0</td>\n",
              "      <td>4.0</td>\n",
              "      <td>3.0</td>\n",
              "    </tr>\n",
              "    <tr>\n",
              "      <th>2011-06-10</th>\n",
              "      <td>54.100333</td>\n",
              "      <td>52.077333</td>\n",
              "      <td>1.164434e+08</td>\n",
              "      <td>-1.733586</td>\n",
              "      <td>6.0</td>\n",
              "      <td>4.0</td>\n",
              "      <td>10.0</td>\n",
              "    </tr>\n",
              "    <tr>\n",
              "      <th>2011-06-17</th>\n",
              "      <td>53.990333</td>\n",
              "      <td>51.916667</td>\n",
              "      <td>1.274691e+08</td>\n",
              "      <td>0.122466</td>\n",
              "      <td>6.0</td>\n",
              "      <td>4.0</td>\n",
              "      <td>17.0</td>\n",
              "    </tr>\n",
              "    <tr>\n",
              "      <th>2011-06-24</th>\n",
              "      <td>54.099667</td>\n",
              "      <td>51.989000</td>\n",
              "      <td>1.213916e+08</td>\n",
              "      <td>-0.180597</td>\n",
              "      <td>6.0</td>\n",
              "      <td>4.0</td>\n",
              "      <td>24.0</td>\n",
              "    </tr>\n",
              "  </tbody>\n",
              "</table>\n",
              "</div>\n",
              "    <div class=\"colab-df-buttons\">\n",
              "\n",
              "  <div class=\"colab-df-container\">\n",
              "    <button class=\"colab-df-convert\" onclick=\"convertToInteractive('df-8387efd1-4f8e-4bb2-bb8f-36b303885f45')\"\n",
              "            title=\"Convert this dataframe to an interactive table.\"\n",
              "            style=\"display:none;\">\n",
              "\n",
              "  <svg xmlns=\"http://www.w3.org/2000/svg\" height=\"24px\" viewBox=\"0 -960 960 960\">\n",
              "    <path d=\"M120-120v-720h720v720H120Zm60-500h600v-160H180v160Zm220 220h160v-160H400v160Zm0 220h160v-160H400v160ZM180-400h160v-160H180v160Zm440 0h160v-160H620v160ZM180-180h160v-160H180v160Zm440 0h160v-160H620v160Z\"/>\n",
              "  </svg>\n",
              "    </button>\n",
              "\n",
              "  <style>\n",
              "    .colab-df-container {\n",
              "      display:flex;\n",
              "      gap: 12px;\n",
              "    }\n",
              "\n",
              "    .colab-df-convert {\n",
              "      background-color: #E8F0FE;\n",
              "      border: none;\n",
              "      border-radius: 50%;\n",
              "      cursor: pointer;\n",
              "      display: none;\n",
              "      fill: #1967D2;\n",
              "      height: 32px;\n",
              "      padding: 0 0 0 0;\n",
              "      width: 32px;\n",
              "    }\n",
              "\n",
              "    .colab-df-convert:hover {\n",
              "      background-color: #E2EBFA;\n",
              "      box-shadow: 0px 1px 2px rgba(60, 64, 67, 0.3), 0px 1px 3px 1px rgba(60, 64, 67, 0.15);\n",
              "      fill: #174EA6;\n",
              "    }\n",
              "\n",
              "    .colab-df-buttons div {\n",
              "      margin-bottom: 4px;\n",
              "    }\n",
              "\n",
              "    [theme=dark] .colab-df-convert {\n",
              "      background-color: #3B4455;\n",
              "      fill: #D2E3FC;\n",
              "    }\n",
              "\n",
              "    [theme=dark] .colab-df-convert:hover {\n",
              "      background-color: #434B5C;\n",
              "      box-shadow: 0px 1px 3px 1px rgba(0, 0, 0, 0.15);\n",
              "      filter: drop-shadow(0px 1px 2px rgba(0, 0, 0, 0.3));\n",
              "      fill: #FFFFFF;\n",
              "    }\n",
              "  </style>\n",
              "\n",
              "    <script>\n",
              "      const buttonEl =\n",
              "        document.querySelector('#df-8387efd1-4f8e-4bb2-bb8f-36b303885f45 button.colab-df-convert');\n",
              "      buttonEl.style.display =\n",
              "        google.colab.kernel.accessAllowed ? 'block' : 'none';\n",
              "\n",
              "      async function convertToInteractive(key) {\n",
              "        const element = document.querySelector('#df-8387efd1-4f8e-4bb2-bb8f-36b303885f45');\n",
              "        const dataTable =\n",
              "          await google.colab.kernel.invokeFunction('convertToInteractive',\n",
              "                                                    [key], {});\n",
              "        if (!dataTable) return;\n",
              "\n",
              "        const docLinkHtml = 'Like what you see? Visit the ' +\n",
              "          '<a target=\"_blank\" href=https://colab.research.google.com/notebooks/data_table.ipynb>data table notebook</a>'\n",
              "          + ' to learn more about interactive tables.';\n",
              "        element.innerHTML = '';\n",
              "        dataTable['output_type'] = 'display_data';\n",
              "        await google.colab.output.renderOutput(dataTable, element);\n",
              "        const docLink = document.createElement('div');\n",
              "        docLink.innerHTML = docLinkHtml;\n",
              "        element.appendChild(docLink);\n",
              "      }\n",
              "    </script>\n",
              "  </div>\n",
              "\n",
              "\n",
              "<div id=\"df-2b9123b2-0778-403a-9d44-c8978d82e83e\">\n",
              "  <button class=\"colab-df-quickchart\" onclick=\"quickchart('df-2b9123b2-0778-403a-9d44-c8978d82e83e')\"\n",
              "            title=\"Suggest charts\"\n",
              "            style=\"display:none;\">\n",
              "\n",
              "<svg xmlns=\"http://www.w3.org/2000/svg\" height=\"24px\"viewBox=\"0 0 24 24\"\n",
              "     width=\"24px\">\n",
              "    <g>\n",
              "        <path d=\"M19 3H5c-1.1 0-2 .9-2 2v14c0 1.1.9 2 2 2h14c1.1 0 2-.9 2-2V5c0-1.1-.9-2-2-2zM9 17H7v-7h2v7zm4 0h-2V7h2v10zm4 0h-2v-4h2v4z\"/>\n",
              "    </g>\n",
              "</svg>\n",
              "  </button>\n",
              "\n",
              "<style>\n",
              "  .colab-df-quickchart {\n",
              "      --bg-color: #E8F0FE;\n",
              "      --fill-color: #1967D2;\n",
              "      --hover-bg-color: #E2EBFA;\n",
              "      --hover-fill-color: #174EA6;\n",
              "      --disabled-fill-color: #AAA;\n",
              "      --disabled-bg-color: #DDD;\n",
              "  }\n",
              "\n",
              "  [theme=dark] .colab-df-quickchart {\n",
              "      --bg-color: #3B4455;\n",
              "      --fill-color: #D2E3FC;\n",
              "      --hover-bg-color: #434B5C;\n",
              "      --hover-fill-color: #FFFFFF;\n",
              "      --disabled-bg-color: #3B4455;\n",
              "      --disabled-fill-color: #666;\n",
              "  }\n",
              "\n",
              "  .colab-df-quickchart {\n",
              "    background-color: var(--bg-color);\n",
              "    border: none;\n",
              "    border-radius: 50%;\n",
              "    cursor: pointer;\n",
              "    display: none;\n",
              "    fill: var(--fill-color);\n",
              "    height: 32px;\n",
              "    padding: 0;\n",
              "    width: 32px;\n",
              "  }\n",
              "\n",
              "  .colab-df-quickchart:hover {\n",
              "    background-color: var(--hover-bg-color);\n",
              "    box-shadow: 0 1px 2px rgba(60, 64, 67, 0.3), 0 1px 3px 1px rgba(60, 64, 67, 0.15);\n",
              "    fill: var(--button-hover-fill-color);\n",
              "  }\n",
              "\n",
              "  .colab-df-quickchart-complete:disabled,\n",
              "  .colab-df-quickchart-complete:disabled:hover {\n",
              "    background-color: var(--disabled-bg-color);\n",
              "    fill: var(--disabled-fill-color);\n",
              "    box-shadow: none;\n",
              "  }\n",
              "\n",
              "  .colab-df-spinner {\n",
              "    border: 2px solid var(--fill-color);\n",
              "    border-color: transparent;\n",
              "    border-bottom-color: var(--fill-color);\n",
              "    animation:\n",
              "      spin 1s steps(1) infinite;\n",
              "  }\n",
              "\n",
              "  @keyframes spin {\n",
              "    0% {\n",
              "      border-color: transparent;\n",
              "      border-bottom-color: var(--fill-color);\n",
              "      border-left-color: var(--fill-color);\n",
              "    }\n",
              "    20% {\n",
              "      border-color: transparent;\n",
              "      border-left-color: var(--fill-color);\n",
              "      border-top-color: var(--fill-color);\n",
              "    }\n",
              "    30% {\n",
              "      border-color: transparent;\n",
              "      border-left-color: var(--fill-color);\n",
              "      border-top-color: var(--fill-color);\n",
              "      border-right-color: var(--fill-color);\n",
              "    }\n",
              "    40% {\n",
              "      border-color: transparent;\n",
              "      border-right-color: var(--fill-color);\n",
              "      border-top-color: var(--fill-color);\n",
              "    }\n",
              "    60% {\n",
              "      border-color: transparent;\n",
              "      border-right-color: var(--fill-color);\n",
              "    }\n",
              "    80% {\n",
              "      border-color: transparent;\n",
              "      border-right-color: var(--fill-color);\n",
              "      border-bottom-color: var(--fill-color);\n",
              "    }\n",
              "    90% {\n",
              "      border-color: transparent;\n",
              "      border-bottom-color: var(--fill-color);\n",
              "    }\n",
              "  }\n",
              "</style>\n",
              "\n",
              "  <script>\n",
              "    async function quickchart(key) {\n",
              "      const quickchartButtonEl =\n",
              "        document.querySelector('#' + key + ' button');\n",
              "      quickchartButtonEl.disabled = true;  // To prevent multiple clicks.\n",
              "      quickchartButtonEl.classList.add('colab-df-spinner');\n",
              "      try {\n",
              "        const charts = await google.colab.kernel.invokeFunction(\n",
              "            'suggestCharts', [key], {});\n",
              "      } catch (error) {\n",
              "        console.error('Error during call to suggestCharts:', error);\n",
              "      }\n",
              "      quickchartButtonEl.classList.remove('colab-df-spinner');\n",
              "      quickchartButtonEl.classList.add('colab-df-quickchart-complete');\n",
              "    }\n",
              "    (() => {\n",
              "      let quickchartButtonEl =\n",
              "        document.querySelector('#df-2b9123b2-0778-403a-9d44-c8978d82e83e button');\n",
              "      quickchartButtonEl.style.display =\n",
              "        google.colab.kernel.accessAllowed ? 'block' : 'none';\n",
              "    })();\n",
              "  </script>\n",
              "</div>\n",
              "    </div>\n",
              "  </div>\n"
            ]
          },
          "metadata": {},
          "execution_count": 46
        }
      ]
    },
    {
      "cell_type": "markdown",
      "source": [
        "<h2> Parte 2\n",
        "Visualización de datos"
      ],
      "metadata": {
        "id": "F_yAZy_SdmTU"
      }
    },
    {
      "cell_type": "code",
      "source": [
        "fig = plt.figure(figsize = (25,6))\n",
        "plt.plot(df.index, df['volume'], 'bo-', label='Actual counts')\n",
        "plt.title('Original Dataset')\n",
        "plt.grid()\n",
        "plt.show()"
      ],
      "metadata": {
        "colab": {
          "base_uri": "https://localhost:8080/",
          "height": 379
        },
        "id": "s7Aek6TwdkKh",
        "outputId": "234df47b-ef74-446d-9b55-043101b75515"
      },
      "execution_count": null,
      "outputs": [
        {
          "output_type": "display_data",
          "data": {
            "text/plain": [
              "<Figure size 2500x600 with 1 Axes>"
            ],
            "image/png": "[encoded data removed]"
          },
          "metadata": {}
        }
      ]
    },
    {
      "cell_type": "markdown",
      "source": [
        "Estacionariedad"
      ],
      "metadata": {
        "id": "ukkUsfEqmP87"
      }
    },
    {
      "cell_type": "code",
      "source": [
        "rolling_mean = df.rolling(7).mean()\n",
        "rolling_std = df.rolling(7).std()\n",
        "\n",
        "fig = plt.figure(figsize = (25,6))\n",
        "\n",
        "og = plt.plot(df.index, df['volume'],'bo-', label='Original Data')\n",
        "roll_mean = plt.plot(rolling_mean.index, rolling_mean['volume'],'r-', label='Rolling mean')\n",
        "roll_std = plt.plot(rolling_std.index, rolling_std['volume'],'k-', label='Rolling std')\n",
        "\n",
        "plt.title('Series, Rolling mean, Satndard DEviation')\n",
        "# plt.legend(handles=[og, roll_mean, roll_std], loc=\"best\")\n",
        "plt.grid()\n",
        "plt.show()"
      ],
      "metadata": {
        "colab": {
          "base_uri": "https://localhost:8080/",
          "height": 379
        },
        "id": "NtTRv0OBmeUp",
        "outputId": "0b5d8442-0be8-45b0-c915-b30dda081876"
      },
      "execution_count": null,
      "outputs": [
        {
          "output_type": "display_data",
          "data": {
            "text/plain": [
              "<Figure size 2500x600 with 1 Axes>"
            ],
            "image/png": "[encoded data removed]"
          },
          "metadata": {}
        }
      ]
    },
    {
      "cell_type": "markdown",
      "source": [
        "<h2>Parte 3 Prueba de Dicky-Fuller"
      ],
      "metadata": {
        "id": "v--RWNI-oB5u"
      }
    },
    {
      "cell_type": "code",
      "source": [
        "adf = adfuller(df['volume'], maxlag=1)"
      ],
      "metadata": {
        "id": "2-0StxMtk7J2"
      },
      "execution_count": null,
      "outputs": []
    },
    {
      "cell_type": "code",
      "source": [
        "print(\"T-Test (Test Statistic):\",adf[0],'\\n')\n",
        "print(\"P-value:\",adf[1],\"\\n\")\n",
        "print(\"Valores criticos (Critical value):\",adf[4])"
      ],
      "metadata": {
        "colab": {
          "base_uri": "https://localhost:8080/"
        },
        "id": "GLlKnjkdlAlT",
        "outputId": "46660053-81db-4f31-8ce0-779827bf6263"
      },
      "execution_count": null,
      "outputs": [
        {
          "output_type": "stream",
          "name": "stdout",
          "text": [
            "T-Test (Test Statistic): -5.26849555635069 \n",
            "\n",
            "P-value: 6.361332458733481e-06 \n",
            "\n",
            "Valores criticos (Critical value): {'1%': -3.7377092158564813, '5%': -2.9922162731481485, '10%': -2.635746736111111}\n"
          ]
        }
      ]
    },
    {
      "cell_type": "code",
      "source": [
        "p_value = adf[1]\n",
        "t_test = adf[0]\n",
        "valores_criticos = adf[4]\n",
        "\n",
        "# Evaluar si la serie es estacionaria en base al umbral\n",
        "if p_value <= 0.05:\n",
        "    print('La serie temporal es estacionaria.')\n",
        "else:\n",
        "    print('La serie temporal no es estacionaria.')\n",
        "\n",
        "# Evaluar si la serie es estacionaria basándose en los valores críticos\n",
        "if t_test < valores_criticos['1%']:\n",
        "    print('La serie temporal es estacionaria al 1% de significancia.')\n",
        "elif t_test < valores_criticos['5%']:\n",
        "    print('La serie temporal es estacionaria al 5% de significancia.')\n",
        "elif t_test < valores_criticos['10%']:\n",
        "    print('La serie temporal es estacionaria al 10% de significancia.')\n",
        "else:\n",
        "    print('La serie temporal no es estacionaria.')"
      ],
      "metadata": {
        "colab": {
          "base_uri": "https://localhost:8080/"
        },
        "id": "Qc6pccmJ6AjX",
        "outputId": "7cb2a639-1c72-4a1b-d497-8b694e559084"
      },
      "execution_count": null,
      "outputs": [
        {
          "output_type": "stream",
          "name": "stdout",
          "text": [
            "La serie temporal es estacionaria.\n",
            "La serie temporal es estacionaria al 1% de significancia.\n"
          ]
        }
      ]
    },
    {
      "cell_type": "markdown",
      "source": [
        "Analizando los resultados se puede concluir que la serie es estacionaria. Esto es debido a que el valor \"p-value\" es menor a 0.05, rechazando la hipotesis nula por umbral, así mismo, comparando el estadistico de prueba con los valores criticos, se puede deternimar que el valor crítico correspondiente al nivel de significancia del 1%, por lo tanto se rechaza la hipotesis nula."
      ],
      "metadata": {
        "id": "1J5b-oePlSZY"
      }
    },
    {
      "cell_type": "markdown",
      "source": [
        "<h2> Parte 4 Transformación y diferenciación"
      ],
      "metadata": {
        "id": "6V4GnHttoKmH"
      }
    },
    {
      "cell_type": "code",
      "source": [
        "#Mascara para datos de entrenamiento y muestreo\n",
        "mask = np.random.rand(len(df)) < 0.8\n",
        "\n",
        "df_train = df[mask]\n",
        "df_test = df[~mask]\n",
        "\n",
        "print(\"Training data set length: \", len(df_train))\n",
        "print(\"Testing data set length: \", len(df_test))"
      ],
      "metadata": {
        "id": "v6ZOd0D9eknA",
        "colab": {
          "base_uri": "https://localhost:8080/"
        },
        "outputId": "1d87ded0-13be-4989-ba18-ca2efa053f3d"
      },
      "execution_count": null,
      "outputs": [
        {
          "output_type": "stream",
          "name": "stdout",
          "text": [
            "Training data set length:  21\n",
            "Testing data set length:  4\n"
          ]
        }
      ]
    },
    {
      "cell_type": "code",
      "source": [
        "from patsy import dmatrices\n",
        "\n",
        "expr = \"\"\"volume ~ DAY + DAY_OF_WEEK + MONTH + high + low + percent_change_price\"\"\"\n",
        "\n",
        "#Matrices X y Y\n",
        "y_train, X_train = dmatrices(expr, df_train, return_type = 'dataframe')\n",
        "y_test, X_test = dmatrices(expr, df_test, return_type='dataframe')\n",
        "\n",
        "print(X_train.head(10))\n",
        "print(y_train.head(10))"
      ],
      "metadata": {
        "colab": {
          "base_uri": "https://localhost:8080/"
        },
        "id": "yeEqMc-iEOr-",
        "outputId": "0c70215c-1227-41c1-ff70-bc01d7e5a935"
      },
      "execution_count": null,
      "outputs": [
        {
          "output_type": "stream",
          "name": "stdout",
          "text": [
            "            Intercept   DAY  DAY_OF_WEEK  MONTH       high        low  \\\n",
            "date                                                                    \n",
            "2011-01-07        1.0   7.0          4.0    1.0  52.394333  50.535000   \n",
            "2011-01-14        1.0  14.0          4.0    1.0  52.315333  50.572000   \n",
            "2011-02-04        1.0   4.0          4.0    2.0  53.592333  51.746333   \n",
            "2011-02-11        1.0  11.0          4.0    2.0  54.679333  52.763000   \n",
            "2011-02-18        1.0  18.0          4.0    2.0  54.773000  53.369667   \n",
            "2011-02-25        1.0  25.0          4.0    2.0  54.817667  52.432667   \n",
            "2011-03-11        1.0  11.0          4.0    3.0  54.485667  52.070667   \n",
            "2011-03-18        1.0  18.0          4.0    3.0  53.392667  50.706000   \n",
            "2011-03-25        1.0  25.0          4.0    3.0  54.193667  52.366000   \n",
            "2011-04-08        1.0   8.0          4.0    4.0  55.256000  53.895667   \n",
            "\n",
            "            percent_change_price  \n",
            "date                              \n",
            "2011-01-07              0.533190  \n",
            "2011-01-14              1.322282  \n",
            "2011-02-04              2.099038  \n",
            "2011-02-11              0.922095  \n",
            "2011-02-18              0.994382  \n",
            "2011-02-25             -1.331562  \n",
            "2011-03-11             -1.104409  \n",
            "2011-03-18             -1.168365  \n",
            "2011-03-25              1.495959  \n",
            "2011-04-08              0.170317  \n",
            "                  volume\n",
            "date                    \n",
            "2011-01-07  1.641992e+08\n",
            "2011-01-14  1.090246e+08\n",
            "2011-02-04  1.199585e+08\n",
            "2011-02-11  1.371438e+08\n",
            "2011-02-18  8.658673e+07\n",
            "2011-02-25  1.141245e+08\n",
            "2011-03-11  1.184469e+08\n",
            "2011-03-18  1.572290e+08\n",
            "2011-03-25  1.044030e+08\n",
            "2011-04-08  1.063614e+08\n"
          ]
        }
      ]
    },
    {
      "cell_type": "code",
      "source": [
        "poisson_training_results =sm.GLM(y_train, X_train, family=sm.families.Poisson()).fit()\n",
        "\n",
        "print(poisson_training_results.summary())"
      ],
      "metadata": {
        "colab": {
          "base_uri": "https://localhost:8080/"
        },
        "id": "CPT1_w57FKHu",
        "outputId": "922b6020-479c-4557-ce31-750a473490f5"
      },
      "execution_count": null,
      "outputs": [
        {
          "output_type": "stream",
          "name": "stdout",
          "text": [
            "                 Generalized Linear Model Regression Results                  \n",
            "==============================================================================\n",
            "Dep. Variable:                 volume   No. Observations:                   21\n",
            "Model:                            GLM   Df Residuals:                       14\n",
            "Model Family:                 Poisson   Df Model:                            6\n",
            "Link Function:                    Log   Scale:                          1.0000\n",
            "Method:                          IRLS   Log-Likelihood:            -1.9036e+07\n",
            "Date:                Mon, 13 Nov 2023   Deviance:                   3.8071e+07\n",
            "Time:                        23:27:40   Pearson chi2:                 3.76e+07\n",
            "No. Iterations:                    12   Pseudo R-squ. (CS):              1.000\n",
            "Covariance Type:            nonrobust                                         \n",
            "========================================================================================\n",
            "                           coef    std err          z      P>|z|      [0.025      0.975]\n",
            "----------------------------------------------------------------------------------------\n",
            "Intercept               18.1883      0.001    1.6e+04      0.000      18.186      18.190\n",
            "DAY                     -0.0048   2.99e-06  -1600.488      0.000      -0.005      -0.005\n",
            "DAY_OF_WEEK              0.4853      0.000   3837.220      0.000       0.485       0.486\n",
            "MONTH                   -0.0054   1.67e-05   -324.188      0.000      -0.005      -0.005\n",
            "high                     0.2564   7.16e-05   3580.428      0.000       0.256       0.257\n",
            "low                     -0.2939   7.15e-05  -4110.677      0.000      -0.294      -0.294\n",
            "percent_change_price     0.0473   2.26e-05   2092.646      0.000       0.047       0.047\n",
            "========================================================================================\n"
          ]
        }
      ]
    },
    {
      "cell_type": "markdown",
      "source": [
        "<h2> Parte 5"
      ],
      "metadata": {
        "id": "0-bmfhSCA3V5"
      }
    },
    {
      "cell_type": "markdown",
      "source": [
        "Correlaciones"
      ],
      "metadata": {
        "id": "HW-WWDzQfVHc"
      }
    },
    {
      "cell_type": "code",
      "source": [
        "autocorrelation_lag1 = df['volume'].autocorr(lag=1)\n",
        "print('Smthn idk',autocorrelation_lag1)"
      ],
      "metadata": {
        "colab": {
          "base_uri": "https://localhost:8080/"
        },
        "id": "rualKFmpekcD",
        "outputId": "1d2e6d4b-519a-49e9-8217-10122703ff76"
      },
      "execution_count": null,
      "outputs": [
        {
          "output_type": "stream",
          "name": "stdout",
          "text": [
            "Smthn idk 0.01341270719330465\n"
          ]
        }
      ]
    },
    {
      "cell_type": "code",
      "source": [
        "from statsmodels.graphics.tsaplots import plot_acf, plot_pacf\n",
        "plot_acf(df['volume'],lags=20);\n",
        "plot_pacf(df['volume'],lags=20);"
      ],
      "metadata": {
        "colab": {
          "base_uri": "https://localhost:8080/",
          "height": 887
        },
        "id": "lhA0Spc8e4C7",
        "outputId": "ddae076f-b855-482f-c0dd-4039ebc5dfa5"
      },
      "execution_count": null,
      "outputs": [
        {
          "output_type": "display_data",
          "data": {
            "text/plain": [
              "<Figure size 640x480 with 1 Axes>"
            ],
            "image/png": "[encoded data removed]"
          },
          "metadata": {}
        },
        {
          "output_type": "display_data",
          "data": {
            "text/plain": [
              "<Figure size 640x480 with 1 Axes>"
            ],
            "image/png": "[encoded data removed]"
          },
          "metadata": {}
        }
      ]
    },
    {
      "cell_type": "code",
      "source": [],
      "metadata": {
        "id": "K6OapnBf6_cd"
      },
      "execution_count": null,
      "outputs": []
    },
    {
      "cell_type": "markdown",
      "source": [
        "Modelo ARIMA"
      ],
      "metadata": {
        "id": "hZMZRUGv6836"
      }
    },
    {
      "cell_type": "markdown",
      "source": [
        "AR - Autoregresivo, considrea observaciones pasadas\n",
        "\n",
        "I - Diferenciación\n",
        "\n",
        "MA - Media movil, considera la dependencia entre una observación y un error residual de observaciones pasadas"
      ],
      "metadata": {
        "id": "QEfcMuLU7u6e"
      }
    },
    {
      "cell_type": "markdown",
      "source": [
        "Ejemplo AIC"
      ],
      "metadata": {
        "id": "UdMxiq9o-ANX"
      }
    },
    {
      "cell_type": "code",
      "source": [
        "import warnings\n",
        "warnings.filterwarnings('ignore')\n",
        "\n",
        "best_aic = float('inf')\n",
        "vest_ordet = none\n",
        "salc_values = []\n",
        "\n",
        "for n in range(1,20):\n",
        "  try:\n",
        "    model=ARIMA(train,order=(p,0,0))\n",
        "    model_fit = model-fit()\n",
        "    alc = model_fit.alc\n",
        "    print(f\"Ar({p}): AIC = {alc:.2f}\")\n",
        "\n",
        "    if alc = best"
      ],
      "metadata": {
        "id": "3Lr1wG3E_Qjr"
      },
      "execution_count": null,
      "outputs": []
    },
    {
      "cell_type": "markdown",
      "source": [
        "Ejemplo con CPI"
      ],
      "metadata": {
        "id": "hmDiTgfx_RAi"
      }
    },
    {
      "cell_type": "code",
      "source": [],
      "metadata": {
        "id": "x8NahrZo_TAM"
      },
      "execution_count": null,
      "outputs": []
    }
  ]
}